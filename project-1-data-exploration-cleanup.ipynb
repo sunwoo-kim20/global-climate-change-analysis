{
 "cells": [
  {
   "cell_type": "markdown",
   "metadata": {},
   "source": [
    "### Data Exploration and Cleanup Process"
   ]
  },
  {
   "cell_type": "code",
   "execution_count": null,
   "metadata": {},
   "outputs": [],
   "source": [
    "# Dependencies and Setup\n",
    "import matplotlib.pyplot as plt\n",
    "import pandas as pd\n",
    "import numpy as np\n",
    "import requests\n",
    "import time\n",
    "import json\n",
    "import gmaps\n",
    "from scipy.stats import linregress\n",
    "\n",
    "\n",
    "# Import API key\n",
    "from config import weather_api_key\n",
    "from config import g_key"
   ]
  },
  {
   "cell_type": "markdown",
   "metadata": {},
   "source": [
    "#### CSV Files to Pandas Dataframes"
   ]
  },
  {
   "cell_type": "code",
   "execution_count": null,
   "metadata": {},
   "outputs": [],
   "source": [
    "# Importing csv files and creating data frames\n",
    "\n",
    "# CO2 by Country\n",
    "co2_country_df = pd.read_csv(\"../project-1-data/co2_emission.csv\")\n",
    "\n",
    "# GDP by Country (GPD per capita PPP)\n",
    "gdp_country_df = pd.read_csv(\"../project-1-data/GDP-countries-1990-2018.csv\")\n",
    "\n",
    "# State Income and Emissions \n",
    "\n",
    "# Create path\n",
    "emission_data_path = \"carbon_emission_data.csv\"\n",
    "income_data_path =\"median_income_2018.csv\"\n",
    "energy_source_path = \"energy_by_source.csv\"\n",
    "\n",
    "# Read csv files\n",
    "state_emissions_2018 = pd.read_csv(emission_data_path)\n",
    "state_income_2018 = pd.read_csv(income_data_path)\n",
    "energy_source_data = pd.read_csv(energy_source_path)"
   ]
  },
  {
   "cell_type": "code",
   "execution_count": null,
   "metadata": {},
   "outputs": [],
   "source": [
    "# Data preview\n",
    "co2_country_df.head()"
   ]
  },
  {
   "cell_type": "code",
   "execution_count": null,
   "metadata": {},
   "outputs": [],
   "source": [
    "# Data preview\n",
    "gdp_country_df.head()"
   ]
  },
  {
   "cell_type": "code",
   "execution_count": null,
   "metadata": {},
   "outputs": [],
   "source": [
    "# Data preview\n",
    "state_emissions_2018.head()"
   ]
  },
  {
   "cell_type": "code",
   "execution_count": null,
   "metadata": {},
   "outputs": [],
   "source": [
    "# Data preview\n",
    "state_income_2018.head()"
   ]
  },
  {
   "cell_type": "code",
   "execution_count": null,
   "metadata": {},
   "outputs": [],
   "source": [
    "# Data preview\n",
    "energy_source_data.head()"
   ]
  },
  {
   "cell_type": "markdown",
   "metadata": {},
   "source": [
    "#### Cleaning GDP Country Dataframe"
   ]
  },
  {
   "cell_type": "code",
   "execution_count": null,
   "metadata": {},
   "outputs": [],
   "source": [
    "# Checking column names and getting rid of any trailing spaces for gdp dataframe\n",
    "\n",
    "gdp_country_df.columns\n",
    "\n",
    "gdp_country_df = gdp_country_df.rename(columns = {\"Country \" : \"Country\"})"
   ]
  },
  {
   "cell_type": "code",
   "execution_count": null,
   "metadata": {},
   "outputs": [],
   "source": [
    "# Taking a subset of original gdp data frame for only the year 2016 \n",
    "gdp_country_2016_df = gdp_country_df[[\"Country\", \"2016\"]]\n",
    "\n",
    "# Renaming column to be more descriptive\n",
    "gdp_country_2016_df = gdp_country_2016_df.rename(columns = {\"2016\" : \"gdp_2016\"})\n",
    "gdp_country_2016_df.head()"
   ]
  },
  {
   "cell_type": "markdown",
   "metadata": {},
   "source": [
    "#### Cleaning Country CO<sub>2</sub> Emissions Dataframe"
   ]
  },
  {
   "cell_type": "code",
   "execution_count": null,
   "metadata": {},
   "outputs": [],
   "source": [
    "# Checking column names for CO2 emissions\n",
    "co2_country_df.columns"
   ]
  },
  {
   "cell_type": "code",
   "execution_count": null,
   "metadata": {},
   "outputs": [],
   "source": [
    "# Checking for strange observations \n",
    "co2_country_df.Entity.unique()"
   ]
  },
  {
   "cell_type": "code",
   "execution_count": null,
   "metadata": {},
   "outputs": [],
   "source": [
    "# Removing any strange observations found\n",
    "\n",
    "co2_country_df = co2_country_df[(co2_country_df.Entity != 'Africa') &\n",
    "                                (co2_country_df.Entity != 'Americas (other)') &\n",
    "                                (co2_country_df.Entity != 'Antarctic Fisheries') &\n",
    "                                (co2_country_df.Entity != 'Asia and Pacific (other)') &\n",
    "                                (co2_country_df.Entity != 'EU-28') &\n",
    "                                (co2_country_df.Entity != 'Europe (other)') &\n",
    "                                (co2_country_df.Entity != 'International transport') &\n",
    "                                (co2_country_df.Entity != 'Statistical differences') &\n",
    "                                (co2_country_df.Entity != 'World')]\n"
   ]
  },
  {
   "cell_type": "code",
   "execution_count": null,
   "metadata": {},
   "outputs": [],
   "source": [
    "# Double checking that observations were removed\n",
    "co2_country_df.Entity.unique()"
   ]
  },
  {
   "cell_type": "code",
   "execution_count": null,
   "metadata": {},
   "outputs": [],
   "source": [
    "# Only keeping observation years 1991 and onwards\n",
    "co2_country_df = co2_country_df.loc[(co2_country_df.Year >= 1991), :]\n",
    "co2_country_df = co2_country_df.rename(columns = {\"Entity\" : \"Country\", \"Annual CO₂ emissions (tonnes )\" : \"annual_co2_tonnes\"})\n",
    "co2_country_df.head()"
   ]
  },
  {
   "cell_type": "code",
   "execution_count": null,
   "metadata": {},
   "outputs": [],
   "source": [
    "# Extracting data for the year 2016\n",
    "co2_country_2016_df = co2_country_df.loc[(co2_country_df.Year == 2016), :]\n",
    "co2_country_2016_df.head()"
   ]
  },
  {
   "cell_type": "code",
   "execution_count": null,
   "metadata": {},
   "outputs": [],
   "source": [
    "# Merging GDP data with carbon emissions data\n",
    "co2_gdp_merge_df = co2_country_2016_df.merge(gdp_country_2016_df, how = 'inner', on = \"Country\")\n",
    "co2_gdp_merge_df.head()"
   ]
  },
  {
   "cell_type": "markdown",
   "metadata": {},
   "source": [
    "#### Geocode API Calls and Heat Maps"
   ]
  },
  {
   "cell_type": "code",
   "execution_count": null,
   "metadata": {},
   "outputs": [],
   "source": [
    "# Creating empty columns\n",
    "co2_gdp_merge_df['Lat'] = \"\"\n",
    "co2_gdp_merge_df['Lng'] = \"\"\n",
    "\n",
    "# Geocode\n",
    "for index, row in co2_gdp_merge_df.iterrows():\n",
    "    \n",
    "    country = row.Country\n",
    "    \n",
    "    # Build the endpoint URL\n",
    "    target_url = f\"https://maps.googleapis.com/maps/api/geocode/json?address={country}&key={g_key}\"\n",
    "    try:\n",
    "        # Get json and extract latitude and longitude\n",
    "        geo_data = requests.get(target_url).json()\n",
    "        lat = geo_data[\"results\"][0][\"geometry\"][\"location\"][\"lat\"]\n",
    "        lng = geo_data[\"results\"][0][\"geometry\"][\"location\"][\"lng\"]\n",
    "\n",
    "        co2_gdp_merge_df.loc[index, 'Lat'] = lat\n",
    "        co2_gdp_merge_df.loc[index, 'Lng'] = lng\n",
    "        print(f\"{country} found, adding coordinates\")\n",
    "    except:\n",
    "        \n",
    "        print(\"Could not find country.\")\n",
    "\n",
    "    \n",
    "co2_gdp_merge_df.head()"
   ]
  },
  {
   "cell_type": "code",
   "execution_count": null,
   "metadata": {},
   "outputs": [],
   "source": [
    "# Store lat and long in locations, gdps in gdps, and carbon emissions in carbons\n",
    "locations = co2_gdp_merge_df[[\"Lat\", \"Lng\"]]\n",
    "gdps = co2_gdp_merge_df.gdp_2016\n",
    "carbons = co2_gdp_merge_df.annual_co2_tonnes"
   ]
  },
  {
   "cell_type": "markdown",
   "metadata": {},
   "source": [
    "#### Global GDP Heat Map"
   ]
  },
  {
   "cell_type": "code",
   "execution_count": null,
   "metadata": {},
   "outputs": [],
   "source": [
    "# Configure gmaps\n",
    "gmaps.configure(api_key=g_key)\n",
    "\n",
    "# Create heatmap\n",
    "fig = gmaps.figure()\n",
    "\n",
    "# Create heat layer\n",
    "heat_layer = gmaps.heatmap_layer(locations, weights=gdps, \n",
    "                                 dissipating=False, max_intensity=max(gdps),\n",
    "                                 point_radius=5)\n",
    "\n",
    "\n",
    "\n",
    "fig.add_layer(heat_layer)\n",
    "fig"
   ]
  },
  {
   "cell_type": "markdown",
   "metadata": {},
   "source": [
    "#### Global Carbon Emissions Heat Map"
   ]
  },
  {
   "cell_type": "code",
   "execution_count": null,
   "metadata": {},
   "outputs": [],
   "source": [
    "# Configure gmaps\n",
    "gmaps.configure(api_key=g_key)\n",
    "\n",
    "# Create heatmap\n",
    "fig = gmaps.figure()\n",
    "\n",
    "# Create heat layer\n",
    "heat_layer = gmaps.heatmap_layer(locations, weights=carbons, \n",
    "                                 dissipating=False, max_intensity=1*(10**9),\n",
    "                                 point_radius=5)\n",
    "\n",
    "\n",
    "\n",
    "fig.add_layer(heat_layer)\n",
    "fig"
   ]
  },
  {
   "cell_type": "markdown",
   "metadata": {},
   "source": [
    "#### BRIC Countries Data Cleaning"
   ]
  },
  {
   "cell_type": "code",
   "execution_count": null,
   "metadata": {},
   "outputs": [],
   "source": [
    "# Import BRIC Historic climate csv into pandas dataframe\n",
    "bric_climate_df = pd.read_csv(\"../project-1-data/BRIC-climate-1991-2016.csv\")\n",
    "bric_climate_df.head()"
   ]
  },
  {
   "cell_type": "code",
   "execution_count": null,
   "metadata": {},
   "outputs": [],
   "source": [
    "# Checking column names and fixing irregularities\n",
    "bric_climate_df.columns\n",
    "\n",
    "bric_climate_df = bric_climate_df.rename(columns = {\"Temperature - (Celsius)\" : \"Temperature_C\",\n",
    "                                                    \" Year\" : \"Year\",\n",
    "                                                    \" Statistics\" : \"Statistics\",\n",
    "                                                    \" Country\" : \"Country\",\n",
    "                                                    \" ISO3\" : \"Code\"})\n",
    "\n",
    "bric_climate_df = bric_climate_df[[\"Country\", \"Year\", \"Code\", \"Temperature_C\"]]\n",
    "bric_climate_df.head()"
   ]
  },
  {
   "cell_type": "code",
   "execution_count": null,
   "metadata": {},
   "outputs": [],
   "source": [
    "# Groupby country and year to get max\n",
    "\n",
    "bric_groupby = bric_climate_df.groupby(by = [\"Country\", \"Year\"])\n",
    "bric_max_temp = bric_groupby.max()\n",
    "bric_max_temp.head(40)\n",
    "\n",
    "bric_max_temp[[\"Temperature_C\", \"Code\"]].head()"
   ]
  },
  {
   "cell_type": "code",
   "execution_count": null,
   "metadata": {},
   "outputs": [],
   "source": [
    "# Resetting index of BRIC temperature dataframe\n",
    "bric_temp_df = bric_max_temp.reset_index()\n",
    "\n",
    "# Removing leading space in country and code values of BRIC dataframe\n",
    "bric_temp_df.Country = [country.strip() for country in bric_temp_df.Country]\n",
    "bric_temp_df.Code = [code.strip() for code in bric_temp_df.Code]"
   ]
  },
  {
   "cell_type": "code",
   "execution_count": null,
   "metadata": {},
   "outputs": [],
   "source": [
    "# Merging BRIC emissions with BRIC temperatures\n",
    "bric_merge_df = bric_temp_df.merge(co2_country_df, how = 'left', on = ['Country', 'Year', 'Code'])\n",
    "bric_merge_df.head()\n",
    "\n",
    "# Export dataframe as csv\n",
    "bric_merge_df.to_csv(\"output-data/bric-merge-data.csv\")"
   ]
  },
  {
   "cell_type": "markdown",
   "metadata": {},
   "source": [
    "#### Interactive Barplot for BRIC Countries"
   ]
  },
  {
   "cell_type": "code",
   "execution_count": null,
   "metadata": {},
   "outputs": [],
   "source": [
    "# BarPlot of Carbon Emissions for a Given Year\n",
    "\n",
    "# Get user input for year of interest\n",
    "year_of_interest = input(\"Please select a year between 1991 and 2016:\")\n",
    "\n",
    "# Subset data for given year\n",
    "bar_data = bric_merge_df.loc[bric_merge_df.Year == int(year_of_interest), :]\n",
    "\n",
    "# Creating barplot\n",
    "plt.bar(bar_data.Country, bar_data.annual_co2_tonnes)\n",
    "plt.title(f\"BRIC Countries: CO2 Emissions ({year_of_interest})\")\n",
    "plt.xlabel(\"Country\")\n",
    "plt.ylabel(\"Annual Carbon Emissions (tonnes)\")\n",
    "plt.show()"
   ]
  },
  {
   "cell_type": "markdown",
   "metadata": {},
   "source": [
    "#### State Emissions and Income Dataframe Cleaning"
   ]
  },
  {
   "cell_type": "markdown",
   "metadata": {},
   "source": [
    "For the first couple of dataframes, the state names had to be replaced using a state abbreviation dictionary in order to merge the datasets, commas had to be removed from the median income data and converted to integers so that the data could be read for plotting.\n"
   ]
  },
  {
   "cell_type": "code",
   "execution_count": null,
   "metadata": {},
   "outputs": [],
   "source": [
    "# Replace abbreviated state names with dictionary\n",
    "us_state_abbrev = {\n",
    "    'Alabama': 'AL',\n",
    "    'Alaska': 'AK',\n",
    "    'American Samoa': 'AS',\n",
    "    'Arizona': 'AZ',\n",
    "    'Arkansas': 'AR',\n",
    "    'California': 'CA',\n",
    "    'Colorado': 'CO',\n",
    "    'Connecticut': 'CT',\n",
    "    'Delaware': 'DE',\n",
    "    'District of Columbia': 'DC',\n",
    "    'Florida': 'FL',\n",
    "    'Georgia': 'GA',\n",
    "    'Guam': 'GU',\n",
    "    'Hawaii': 'HI',\n",
    "    'Idaho': 'ID',\n",
    "    'Illinois': 'IL',\n",
    "    'Indiana': 'IN',\n",
    "    'Iowa': 'IA',\n",
    "    'Kansas': 'KS',\n",
    "    'Kentucky': 'KY',\n",
    "    'Louisiana': 'LA',\n",
    "    'Maine': 'ME',\n",
    "    'Maryland': 'MD',\n",
    "    'Massachusetts': 'MA',\n",
    "    'Michigan': 'MI',\n",
    "    'Minnesota': 'MN',\n",
    "    'Mississippi': 'MS',\n",
    "    'Missouri': 'MO',\n",
    "    'Montana': 'MT',\n",
    "    'Nebraska': 'NE',\n",
    "    'Nevada': 'NV',\n",
    "    'New Hampshire': 'NH',\n",
    "    'New Jersey': 'NJ',\n",
    "    'New Mexico': 'NM',\n",
    "    'New York': 'NY',\n",
    "    'North Carolina': 'NC',\n",
    "    'North Dakota': 'ND',\n",
    "    'Northern Mariana Islands':'MP',\n",
    "    'Ohio': 'OH',\n",
    "    'Oklahoma': 'OK',\n",
    "    'Oregon': 'OR',\n",
    "    'Pennsylvania': 'PA',\n",
    "    'Puerto Rico': 'PR',\n",
    "    'Rhode Island': 'RI',\n",
    "    'South Carolina': 'SC',\n",
    "    'South Dakota': 'SD',\n",
    "    'Tennessee': 'TN',\n",
    "    'Texas': 'TX',\n",
    "    'Utah': 'UT',\n",
    "    'Vermont': 'VT',\n",
    "    'Virgin Islands': 'VI',\n",
    "    'Virginia': 'VA',\n",
    "    'Washington': 'WA',\n",
    "    'West Virginia': 'WV',\n",
    "    'Wisconsin': 'WI',\n",
    "    'Wyoming': 'WY'\n",
    "}\n",
    "\n",
    "abbrev_us_state = dict(map(reversed, us_state_abbrev.items()))\n",
    "\n",
    "state_emissions_2018 = state_emissions_2018.replace({\"State\": abbrev_us_state})"
   ]
  },
  {
   "cell_type": "code",
   "execution_count": null,
   "metadata": {},
   "outputs": [],
   "source": [
    "# Merge dataframes\n",
    "merge_df = pd.merge(state_emissions_2018, state_income_2018, how=\"outer\", on=\"State\")\n",
    "merge_df = merge_df.drop(columns=[\"Federal offshore production is not included in the Production Shares.\"])\n",
    "merge_df = merge_df.drop(index=51)\n",
    "\n",
    "# Remove commas from median income data\n",
    "merge_df[\"Median income\"] = merge_df[\"Median income\"].str.replace(\",\",\"\")\n",
    "merge_df[\"Median income\"] = merge_df[\"Median income\"].astype(int)\n",
    "merge_df.head()"
   ]
  },
  {
   "cell_type": "markdown",
   "metadata": {},
   "source": [
    "#### Barplot Visualization for State Emissions and Income Data"
   ]
  },
  {
   "cell_type": "code",
   "execution_count": null,
   "metadata": {},
   "outputs": [],
   "source": [
    "# Create variables for different value sets \n",
    "state_name = merge_df[\"State\"].unique()\n",
    "us_co2_production = merge_df[\"Production, U.S. Share\"].astype(int)\n",
    "median_income = merge_df[\"Median income\"].astype(int)\n",
    "co2_per_capita = merge_df[\"Consumption per Capita, Million Btu\"].tolist()"
   ]
  },
  {
   "cell_type": "code",
   "execution_count": null,
   "metadata": {},
   "outputs": [],
   "source": [
    "#create dataframe for plotting\n",
    "state_emissions_df = merge_df[[\"State\", \"Production, U.S. Share\"]]\n",
    "state_emissions_df = state_emissions_df.set_index(\"State\")\n",
    "\n",
    "#plot state vs. emissions data\n",
    "state_emissions_df.plot(kind='bar', figsize=(20,3))\n",
    "plt.ylabel(\"CO2 Production\")\n",
    "\n",
    "plt.show()"
   ]
  },
  {
   "cell_type": "code",
   "execution_count": null,
   "metadata": {},
   "outputs": [],
   "source": [
    "#create dataframe for plotting\n",
    "state_median_df = merge_df[[\"State\", \"Median income\"]]\n",
    "state_median_df = state_median_df.set_index(\"State\")\n",
    "\n",
    "#plot state vs. median income data\n",
    "state_median_df.plot(kind='bar', figsize=(20,3))\n",
    "plt.show()"
   ]
  },
  {
   "cell_type": "code",
   "execution_count": null,
   "metadata": {},
   "outputs": [],
   "source": [
    "#create dataframe for plotting\n",
    "state_co2_per_capita = merge_df[[\"State\", \"Consumption per Capita, Million Btu\"]]\n",
    "state_co2_per_capita = state_co2_per_capita.set_index(\"State\")\n",
    "\n",
    "#plot \n",
    "state_co2_per_capita.plot(kind='bar', figsize=(20,3))\n",
    "plt.ylabel(\"CO2 Consumption per Capita\")\n",
    "plt.show()"
   ]
  },
  {
   "cell_type": "markdown",
   "metadata": {},
   "source": [
    "#### U.S. Energy Source Data"
   ]
  },
  {
   "cell_type": "code",
   "execution_count": null,
   "metadata": {},
   "outputs": [],
   "source": [
    "energy_source_data.columns = [\"Year\", \"Coal\", \"Natural Gas\", \"Crude Oil\",\n",
    "                  \"Natural Gas Plant Liquids\", \"Nuclear\",\n",
    "                  \"Renewables\"]\n",
    "energy_source_data.head()"
   ]
  },
  {
   "cell_type": "code",
   "execution_count": null,
   "metadata": {},
   "outputs": [],
   "source": [
    "#create dataframe f0r 2018 energy source data \n",
    "energy_source_data = energy_source_data.loc[energy_source_data[\"Year\"] == 2018]\n",
    "energy_source_data = energy_source_data.drop_duplicates(subset=None)\n",
    "energy_source_data = energy_source_data.set_index(\"Year\")\n",
    "\n",
    "#creat bar graph \n",
    "energy_source_data.plot(kind='bar')\n",
    "plt.ylabel(\"U.S. Energy Consumption (%)\")\n",
    "plt.xticks(rotation=\"horizontal\")\n",
    "\n",
    "plt.show()"
   ]
  }
 ],
 "metadata": {
  "kernelspec": {
   "display_name": "Python 3",
   "language": "python",
   "name": "python3"
  },
  "language_info": {
   "codemirror_mode": {
    "name": "ipython",
    "version": 3
   },
   "file_extension": ".py",
   "mimetype": "text/x-python",
   "name": "python",
   "nbconvert_exporter": "python",
   "pygments_lexer": "ipython3",
   "version": "3.8.5"
  }
 },
 "nbformat": 4,
 "nbformat_minor": 4
}
