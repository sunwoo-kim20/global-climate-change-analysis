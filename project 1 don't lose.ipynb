{
 "cells": [
  {
   "cell_type": "code",
   "execution_count": 1,
   "metadata": {},
   "outputs": [],
   "source": [
    "import matplotlib.pyplot as plt\n",
    "import pandas as pd\n",
    "import numpy as np\n",
    "import requests\n",
    "import gmaps\n",
    "import os\n",
    "import scipy.stats as st"
   ]
  },
  {
   "cell_type": "code",
   "execution_count": 2,
   "metadata": {},
   "outputs": [
    {
     "data": {
      "text/html": [
       "<div>\n",
       "<style scoped>\n",
       "    .dataframe tbody tr th:only-of-type {\n",
       "        vertical-align: middle;\n",
       "    }\n",
       "\n",
       "    .dataframe tbody tr th {\n",
       "        vertical-align: top;\n",
       "    }\n",
       "\n",
       "    .dataframe thead th {\n",
       "        text-align: right;\n",
       "    }\n",
       "</style>\n",
       "<table border=\"1\" class=\"dataframe\">\n",
       "  <thead>\n",
       "    <tr style=\"text-align: right;\">\n",
       "      <th></th>\n",
       "      <th>Entity</th>\n",
       "      <th>Code_x</th>\n",
       "      <th>Year</th>\n",
       "      <th>Air pollution (total) (deaths per 100,000)</th>\n",
       "      <th>Indoor air pollution (deaths per 100,000)</th>\n",
       "      <th>Outdoor particulate matter (deaths per 100,000)</th>\n",
       "      <th>Outdoor ozone pollution (deaths per 100,000)</th>\n",
       "      <th>Annual CO₂ emissions (tonnes )</th>\n",
       "    </tr>\n",
       "  </thead>\n",
       "  <tbody>\n",
       "    <tr>\n",
       "      <th>0</th>\n",
       "      <td>Afghanistan</td>\n",
       "      <td>AFG</td>\n",
       "      <td>1990</td>\n",
       "      <td>299.477309</td>\n",
       "      <td>250.362910</td>\n",
       "      <td>46.446589</td>\n",
       "      <td>5.616442</td>\n",
       "      <td>2602407.59</td>\n",
       "    </tr>\n",
       "    <tr>\n",
       "      <th>1</th>\n",
       "      <td>Afghanistan</td>\n",
       "      <td>AFG</td>\n",
       "      <td>1991</td>\n",
       "      <td>291.277967</td>\n",
       "      <td>242.575125</td>\n",
       "      <td>46.033841</td>\n",
       "      <td>5.603960</td>\n",
       "      <td>2426486.16</td>\n",
       "    </tr>\n",
       "    <tr>\n",
       "      <th>2</th>\n",
       "      <td>Afghanistan</td>\n",
       "      <td>AFG</td>\n",
       "      <td>1992</td>\n",
       "      <td>278.963056</td>\n",
       "      <td>232.043878</td>\n",
       "      <td>44.243766</td>\n",
       "      <td>5.611822</td>\n",
       "      <td>1381521.84</td>\n",
       "    </tr>\n",
       "    <tr>\n",
       "      <th>3</th>\n",
       "      <td>Afghanistan</td>\n",
       "      <td>AFG</td>\n",
       "      <td>1993</td>\n",
       "      <td>278.790815</td>\n",
       "      <td>231.648134</td>\n",
       "      <td>44.440148</td>\n",
       "      <td>5.655266</td>\n",
       "      <td>1333837.11</td>\n",
       "    </tr>\n",
       "    <tr>\n",
       "      <th>4</th>\n",
       "      <td>Afghanistan</td>\n",
       "      <td>AFG</td>\n",
       "      <td>1994</td>\n",
       "      <td>287.162923</td>\n",
       "      <td>238.837177</td>\n",
       "      <td>45.594328</td>\n",
       "      <td>5.718922</td>\n",
       "      <td>1282488.38</td>\n",
       "    </tr>\n",
       "    <tr>\n",
       "      <th>...</th>\n",
       "      <td>...</td>\n",
       "      <td>...</td>\n",
       "      <td>...</td>\n",
       "      <td>...</td>\n",
       "      <td>...</td>\n",
       "      <td>...</td>\n",
       "      <td>...</td>\n",
       "      <td>...</td>\n",
       "    </tr>\n",
       "    <tr>\n",
       "      <th>6463</th>\n",
       "      <td>Zimbabwe</td>\n",
       "      <td>ZWE</td>\n",
       "      <td>2013</td>\n",
       "      <td>143.850145</td>\n",
       "      <td>113.456097</td>\n",
       "      <td>27.589603</td>\n",
       "      <td>4.426291</td>\n",
       "      <td>11536239.29</td>\n",
       "    </tr>\n",
       "    <tr>\n",
       "      <th>6464</th>\n",
       "      <td>Zimbabwe</td>\n",
       "      <td>ZWE</td>\n",
       "      <td>2014</td>\n",
       "      <td>138.200536</td>\n",
       "      <td>108.703566</td>\n",
       "      <td>26.760618</td>\n",
       "      <td>4.296971</td>\n",
       "      <td>11866348.41</td>\n",
       "    </tr>\n",
       "    <tr>\n",
       "      <th>6465</th>\n",
       "      <td>Zimbabwe</td>\n",
       "      <td>ZWE</td>\n",
       "      <td>2015</td>\n",
       "      <td>132.752553</td>\n",
       "      <td>104.340506</td>\n",
       "      <td>25.715415</td>\n",
       "      <td>4.200907</td>\n",
       "      <td>10907603.94</td>\n",
       "    </tr>\n",
       "    <tr>\n",
       "      <th>6466</th>\n",
       "      <td>Zimbabwe</td>\n",
       "      <td>ZWE</td>\n",
       "      <td>2016</td>\n",
       "      <td>128.692138</td>\n",
       "      <td>100.392287</td>\n",
       "      <td>25.643570</td>\n",
       "      <td>4.117173</td>\n",
       "      <td>9932649.88</td>\n",
       "    </tr>\n",
       "    <tr>\n",
       "      <th>6467</th>\n",
       "      <td>Zimbabwe</td>\n",
       "      <td>ZWE</td>\n",
       "      <td>2017</td>\n",
       "      <td>125.028843</td>\n",
       "      <td>96.235996</td>\n",
       "      <td>26.166182</td>\n",
       "      <td>4.052495</td>\n",
       "      <td>10397718.47</td>\n",
       "    </tr>\n",
       "  </tbody>\n",
       "</table>\n",
       "<p>5235 rows × 8 columns</p>\n",
       "</div>"
      ],
      "text/plain": [
       "           Entity Code_x  Year  Air pollution (total) (deaths per 100,000)  \\\n",
       "0     Afghanistan    AFG  1990                                  299.477309   \n",
       "1     Afghanistan    AFG  1991                                  291.277967   \n",
       "2     Afghanistan    AFG  1992                                  278.963056   \n",
       "3     Afghanistan    AFG  1993                                  278.790815   \n",
       "4     Afghanistan    AFG  1994                                  287.162923   \n",
       "...           ...    ...   ...                                         ...   \n",
       "6463     Zimbabwe    ZWE  2013                                  143.850145   \n",
       "6464     Zimbabwe    ZWE  2014                                  138.200536   \n",
       "6465     Zimbabwe    ZWE  2015                                  132.752553   \n",
       "6466     Zimbabwe    ZWE  2016                                  128.692138   \n",
       "6467     Zimbabwe    ZWE  2017                                  125.028843   \n",
       "\n",
       "      Indoor air pollution (deaths per 100,000)  \\\n",
       "0                                    250.362910   \n",
       "1                                    242.575125   \n",
       "2                                    232.043878   \n",
       "3                                    231.648134   \n",
       "4                                    238.837177   \n",
       "...                                         ...   \n",
       "6463                                 113.456097   \n",
       "6464                                 108.703566   \n",
       "6465                                 104.340506   \n",
       "6466                                 100.392287   \n",
       "6467                                  96.235996   \n",
       "\n",
       "      Outdoor particulate matter (deaths per 100,000)  \\\n",
       "0                                           46.446589   \n",
       "1                                           46.033841   \n",
       "2                                           44.243766   \n",
       "3                                           44.440148   \n",
       "4                                           45.594328   \n",
       "...                                               ...   \n",
       "6463                                        27.589603   \n",
       "6464                                        26.760618   \n",
       "6465                                        25.715415   \n",
       "6466                                        25.643570   \n",
       "6467                                        26.166182   \n",
       "\n",
       "      Outdoor ozone pollution (deaths per 100,000)  \\\n",
       "0                                         5.616442   \n",
       "1                                         5.603960   \n",
       "2                                         5.611822   \n",
       "3                                         5.655266   \n",
       "4                                         5.718922   \n",
       "...                                            ...   \n",
       "6463                                      4.426291   \n",
       "6464                                      4.296971   \n",
       "6465                                      4.200907   \n",
       "6466                                      4.117173   \n",
       "6467                                      4.052495   \n",
       "\n",
       "      Annual CO₂ emissions (tonnes )  \n",
       "0                         2602407.59  \n",
       "1                         2426486.16  \n",
       "2                         1381521.84  \n",
       "3                         1333837.11  \n",
       "4                         1282488.38  \n",
       "...                              ...  \n",
       "6463                     11536239.29  \n",
       "6464                     11866348.41  \n",
       "6465                     10907603.94  \n",
       "6466                      9932649.88  \n",
       "6467                     10397718.47  \n",
       "\n",
       "[5235 rows x 8 columns]"
      ]
     },
     "execution_count": 2,
     "metadata": {},
     "output_type": "execute_result"
    }
   ],
   "source": [
    "world_death = pd.read_csv('death-rates-from-air-pollution.csv')\n",
    "world_emissions = pd.read_csv('co2_emission.csv')\n",
    "world_emissions = world_emissions.loc[world_emissions['Year'] >= 1990]\n",
    "world_death = pd.DataFrame(world_death)\n",
    "world_emissions = pd.DataFrame(world_emissions)\n",
    "combined_df =  world_death.merge(world_emissions, how='outer', on = [\"Entity\",\"Year\"])\n",
    "combined_df = combined_df.dropna(axis=0, how=\"any\")\n",
    "combined_df.drop(['Code_y'], axis=1,inplace=True)\n",
    "world_df = combined_df.loc[combined_df['Entity'] == 'World']\n",
    "combined_df = combined_df.loc[combined_df['Entity'] != 'World']\n",
    "combined_df\n"
   ]
  },
  {
   "cell_type": "code",
   "execution_count": 3,
   "metadata": {},
   "outputs": [
    {
     "data": {
      "text/html": [
       "<div>\n",
       "<style scoped>\n",
       "    .dataframe tbody tr th:only-of-type {\n",
       "        vertical-align: middle;\n",
       "    }\n",
       "\n",
       "    .dataframe tbody tr th {\n",
       "        vertical-align: top;\n",
       "    }\n",
       "\n",
       "    .dataframe thead th {\n",
       "        text-align: right;\n",
       "    }\n",
       "</style>\n",
       "<table border=\"1\" class=\"dataframe\">\n",
       "  <thead>\n",
       "    <tr style=\"text-align: right;\">\n",
       "      <th></th>\n",
       "      <th>mean</th>\n",
       "      <th>median</th>\n",
       "      <th>variance</th>\n",
       "      <th>standard_deviation</th>\n",
       "      <th>SEM</th>\n",
       "    </tr>\n",
       "    <tr>\n",
       "      <th>Entity</th>\n",
       "      <th></th>\n",
       "      <th></th>\n",
       "      <th></th>\n",
       "      <th></th>\n",
       "      <th></th>\n",
       "    </tr>\n",
       "  </thead>\n",
       "  <tbody>\n",
       "    <tr>\n",
       "      <th>Afghanistan</th>\n",
       "      <td>252.842551</td>\n",
       "      <td>270.203219</td>\n",
       "      <td>1447.198535</td>\n",
       "      <td>38.042063</td>\n",
       "      <td>7.189274</td>\n",
       "    </tr>\n",
       "    <tr>\n",
       "      <th>Albania</th>\n",
       "      <td>59.291351</td>\n",
       "      <td>59.622406</td>\n",
       "      <td>205.435890</td>\n",
       "      <td>14.333035</td>\n",
       "      <td>2.708689</td>\n",
       "    </tr>\n",
       "    <tr>\n",
       "      <th>Algeria</th>\n",
       "      <td>53.680312</td>\n",
       "      <td>53.921732</td>\n",
       "      <td>53.409660</td>\n",
       "      <td>7.308191</td>\n",
       "      <td>1.381118</td>\n",
       "    </tr>\n",
       "    <tr>\n",
       "      <th>Andorra</th>\n",
       "      <td>21.150254</td>\n",
       "      <td>19.785442</td>\n",
       "      <td>18.094638</td>\n",
       "      <td>4.253779</td>\n",
       "      <td>0.803889</td>\n",
       "    </tr>\n",
       "    <tr>\n",
       "      <th>Angola</th>\n",
       "      <td>163.970719</td>\n",
       "      <td>168.538531</td>\n",
       "      <td>2023.055555</td>\n",
       "      <td>44.978390</td>\n",
       "      <td>8.500117</td>\n",
       "    </tr>\n",
       "    <tr>\n",
       "      <th>...</th>\n",
       "      <td>...</td>\n",
       "      <td>...</td>\n",
       "      <td>...</td>\n",
       "      <td>...</td>\n",
       "      <td>...</td>\n",
       "    </tr>\n",
       "    <tr>\n",
       "      <th>Venezuela</th>\n",
       "      <td>40.874961</td>\n",
       "      <td>39.385385</td>\n",
       "      <td>21.967943</td>\n",
       "      <td>4.686997</td>\n",
       "      <td>0.885759</td>\n",
       "    </tr>\n",
       "    <tr>\n",
       "      <th>Vietnam</th>\n",
       "      <td>81.837420</td>\n",
       "      <td>83.417953</td>\n",
       "      <td>162.175702</td>\n",
       "      <td>12.734822</td>\n",
       "      <td>2.406655</td>\n",
       "    </tr>\n",
       "    <tr>\n",
       "      <th>Yemen</th>\n",
       "      <td>133.563611</td>\n",
       "      <td>128.557998</td>\n",
       "      <td>911.133380</td>\n",
       "      <td>30.184986</td>\n",
       "      <td>5.704426</td>\n",
       "    </tr>\n",
       "    <tr>\n",
       "      <th>Zambia</th>\n",
       "      <td>144.309198</td>\n",
       "      <td>139.292872</td>\n",
       "      <td>1107.185124</td>\n",
       "      <td>33.274391</td>\n",
       "      <td>6.288269</td>\n",
       "    </tr>\n",
       "    <tr>\n",
       "      <th>Zimbabwe</th>\n",
       "      <td>136.099677</td>\n",
       "      <td>138.305798</td>\n",
       "      <td>637.160560</td>\n",
       "      <td>25.242040</td>\n",
       "      <td>4.770297</td>\n",
       "    </tr>\n",
       "  </tbody>\n",
       "</table>\n",
       "<p>188 rows × 5 columns</p>\n",
       "</div>"
      ],
      "text/plain": [
       "                   mean      median     variance  standard_deviation       SEM\n",
       "Entity                                                                        \n",
       "Afghanistan  252.842551  270.203219  1447.198535           38.042063  7.189274\n",
       "Albania       59.291351   59.622406   205.435890           14.333035  2.708689\n",
       "Algeria       53.680312   53.921732    53.409660            7.308191  1.381118\n",
       "Andorra       21.150254   19.785442    18.094638            4.253779  0.803889\n",
       "Angola       163.970719  168.538531  2023.055555           44.978390  8.500117\n",
       "...                 ...         ...          ...                 ...       ...\n",
       "Venezuela     40.874961   39.385385    21.967943            4.686997  0.885759\n",
       "Vietnam       81.837420   83.417953   162.175702           12.734822  2.406655\n",
       "Yemen        133.563611  128.557998   911.133380           30.184986  5.704426\n",
       "Zambia       144.309198  139.292872  1107.185124           33.274391  6.288269\n",
       "Zimbabwe     136.099677  138.305798   637.160560           25.242040  4.770297\n",
       "\n",
       "[188 rows x 5 columns]"
      ]
     },
     "execution_count": 3,
     "metadata": {},
     "output_type": "execute_result"
    }
   ],
   "source": [
    "analytics_df = pd.DataFrame()\n",
    "country_group = combined_df.groupby(['Entity'])\n",
    "analytics_df['mean'] = country_group['Air pollution (total) (deaths per 100,000)'].mean()\n",
    "analytics_df['median']= country_group['Air pollution (total) (deaths per 100,000)'].median()\n",
    "analytics_df['variance'] = country_group['Air pollution (total) (deaths per 100,000)'].var()\n",
    "analytics_df['standard_deviation'] = country_group['Air pollution (total) (deaths per 100,000)'].std()\n",
    "analytics_df['SEM'] = country_group['Air pollution (total) (deaths per 100,000)'].sem()\n",
    "analytics_df"
   ]
  },
  {
   "cell_type": "code",
   "execution_count": null,
   "metadata": {},
   "outputs": [],
   "source": []
  },
  {
   "cell_type": "code",
   "execution_count": null,
   "metadata": {},
   "outputs": [],
   "source": []
  },
  {
   "cell_type": "code",
   "execution_count": 4,
   "metadata": {},
   "outputs": [
    {
     "data": {
      "text/html": [
       "<div>\n",
       "<style scoped>\n",
       "    .dataframe tbody tr th:only-of-type {\n",
       "        vertical-align: middle;\n",
       "    }\n",
       "\n",
       "    .dataframe tbody tr th {\n",
       "        vertical-align: top;\n",
       "    }\n",
       "\n",
       "    .dataframe thead th {\n",
       "        text-align: right;\n",
       "    }\n",
       "</style>\n",
       "<table border=\"1\" class=\"dataframe\">\n",
       "  <thead>\n",
       "    <tr style=\"text-align: right;\">\n",
       "      <th></th>\n",
       "      <th>mean</th>\n",
       "      <th>median</th>\n",
       "      <th>variance</th>\n",
       "      <th>standard_deviation</th>\n",
       "      <th>SEM</th>\n",
       "    </tr>\n",
       "    <tr>\n",
       "      <th>Entity</th>\n",
       "      <th></th>\n",
       "      <th></th>\n",
       "      <th></th>\n",
       "      <th></th>\n",
       "      <th></th>\n",
       "    </tr>\n",
       "  </thead>\n",
       "  <tbody>\n",
       "    <tr>\n",
       "      <th>Afghanistan</th>\n",
       "      <td>203.967377</td>\n",
       "      <td>220.919258</td>\n",
       "      <td>1493.413067</td>\n",
       "      <td>38.644703</td>\n",
       "      <td>7.303162</td>\n",
       "    </tr>\n",
       "    <tr>\n",
       "      <th>Albania</th>\n",
       "      <td>35.145038</td>\n",
       "      <td>34.462431</td>\n",
       "      <td>180.455059</td>\n",
       "      <td>13.433356</td>\n",
       "      <td>2.538666</td>\n",
       "    </tr>\n",
       "    <tr>\n",
       "      <th>Algeria</th>\n",
       "      <td>1.503494</td>\n",
       "      <td>1.286284</td>\n",
       "      <td>1.156709</td>\n",
       "      <td>1.075504</td>\n",
       "      <td>0.203251</td>\n",
       "    </tr>\n",
       "    <tr>\n",
       "      <th>Andorra</th>\n",
       "      <td>0.397801</td>\n",
       "      <td>0.298552</td>\n",
       "      <td>0.064346</td>\n",
       "      <td>0.253666</td>\n",
       "      <td>0.047938</td>\n",
       "    </tr>\n",
       "    <tr>\n",
       "      <th>Angola</th>\n",
       "      <td>131.054799</td>\n",
       "      <td>134.785483</td>\n",
       "      <td>2081.316207</td>\n",
       "      <td>45.621445</td>\n",
       "      <td>8.621643</td>\n",
       "    </tr>\n",
       "    <tr>\n",
       "      <th>...</th>\n",
       "      <td>...</td>\n",
       "      <td>...</td>\n",
       "      <td>...</td>\n",
       "      <td>...</td>\n",
       "      <td>...</td>\n",
       "    </tr>\n",
       "    <tr>\n",
       "      <th>Venezuela</th>\n",
       "      <td>1.807818</td>\n",
       "      <td>1.170696</td>\n",
       "      <td>2.557285</td>\n",
       "      <td>1.599151</td>\n",
       "      <td>0.302211</td>\n",
       "    </tr>\n",
       "    <tr>\n",
       "      <th>Vietnam</th>\n",
       "      <td>51.177700</td>\n",
       "      <td>52.414226</td>\n",
       "      <td>286.081004</td>\n",
       "      <td>16.913929</td>\n",
       "      <td>3.196432</td>\n",
       "    </tr>\n",
       "    <tr>\n",
       "      <th>Yemen</th>\n",
       "      <td>87.386845</td>\n",
       "      <td>84.242415</td>\n",
       "      <td>1355.462539</td>\n",
       "      <td>36.816607</td>\n",
       "      <td>6.957685</td>\n",
       "    </tr>\n",
       "    <tr>\n",
       "      <th>Zambia</th>\n",
       "      <td>116.597741</td>\n",
       "      <td>112.393122</td>\n",
       "      <td>916.200607</td>\n",
       "      <td>30.268806</td>\n",
       "      <td>5.720267</td>\n",
       "    </tr>\n",
       "    <tr>\n",
       "      <th>Zimbabwe</th>\n",
       "      <td>106.606980</td>\n",
       "      <td>107.337969</td>\n",
       "      <td>393.404882</td>\n",
       "      <td>19.834437</td>\n",
       "      <td>3.748356</td>\n",
       "    </tr>\n",
       "  </tbody>\n",
       "</table>\n",
       "<p>188 rows × 5 columns</p>\n",
       "</div>"
      ],
      "text/plain": [
       "                   mean      median     variance  standard_deviation       SEM\n",
       "Entity                                                                        \n",
       "Afghanistan  203.967377  220.919258  1493.413067           38.644703  7.303162\n",
       "Albania       35.145038   34.462431   180.455059           13.433356  2.538666\n",
       "Algeria        1.503494    1.286284     1.156709            1.075504  0.203251\n",
       "Andorra        0.397801    0.298552     0.064346            0.253666  0.047938\n",
       "Angola       131.054799  134.785483  2081.316207           45.621445  8.621643\n",
       "...                 ...         ...          ...                 ...       ...\n",
       "Venezuela      1.807818    1.170696     2.557285            1.599151  0.302211\n",
       "Vietnam       51.177700   52.414226   286.081004           16.913929  3.196432\n",
       "Yemen         87.386845   84.242415  1355.462539           36.816607  6.957685\n",
       "Zambia       116.597741  112.393122   916.200607           30.268806  5.720267\n",
       "Zimbabwe     106.606980  107.337969   393.404882           19.834437  3.748356\n",
       "\n",
       "[188 rows x 5 columns]"
      ]
     },
     "execution_count": 4,
     "metadata": {},
     "output_type": "execute_result"
    }
   ],
   "source": [
    "analytics_df2 = pd.DataFrame()\n",
    "country_group2 = combined_df.groupby(['Entity'])\n",
    "analytics_df2['mean'] = country_group['Indoor air pollution (deaths per 100,000)'].mean()\n",
    "analytics_df2['median']= country_group['Indoor air pollution (deaths per 100,000)'].median()\n",
    "analytics_df2['variance'] = country_group['Indoor air pollution (deaths per 100,000)'].var()\n",
    "analytics_df2['standard_deviation'] = country_group['Indoor air pollution (deaths per 100,000)'].std()\n",
    "analytics_df2['SEM'] = country_group['Indoor air pollution (deaths per 100,000)'].sem()\n",
    "analytics_df2"
   ]
  },
  {
   "cell_type": "code",
   "execution_count": 5,
   "metadata": {},
   "outputs": [
    {
     "data": {
      "text/html": [
       "<div>\n",
       "<style scoped>\n",
       "    .dataframe tbody tr th:only-of-type {\n",
       "        vertical-align: middle;\n",
       "    }\n",
       "\n",
       "    .dataframe tbody tr th {\n",
       "        vertical-align: top;\n",
       "    }\n",
       "\n",
       "    .dataframe thead th {\n",
       "        text-align: right;\n",
       "    }\n",
       "</style>\n",
       "<table border=\"1\" class=\"dataframe\">\n",
       "  <thead>\n",
       "    <tr style=\"text-align: right;\">\n",
       "      <th></th>\n",
       "      <th>mean</th>\n",
       "      <th>median</th>\n",
       "      <th>variance</th>\n",
       "      <th>standard_deviation</th>\n",
       "      <th>SEM</th>\n",
       "    </tr>\n",
       "    <tr>\n",
       "      <th>Entity</th>\n",
       "      <th></th>\n",
       "      <th></th>\n",
       "      <th></th>\n",
       "      <th></th>\n",
       "      <th></th>\n",
       "    </tr>\n",
       "  </thead>\n",
       "  <tbody>\n",
       "    <tr>\n",
       "      <th>Afghanistan</th>\n",
       "      <td>4.353566e+06</td>\n",
       "      <td>1.512384e+06</td>\n",
       "      <td>1.942948e+13</td>\n",
       "      <td>4.407888e+06</td>\n",
       "      <td>8.330125e+05</td>\n",
       "    </tr>\n",
       "    <tr>\n",
       "      <th>Albania</th>\n",
       "      <td>3.939502e+06</td>\n",
       "      <td>4.206272e+06</td>\n",
       "      <td>2.028632e+12</td>\n",
       "      <td>1.424301e+06</td>\n",
       "      <td>2.691675e+05</td>\n",
       "    </tr>\n",
       "    <tr>\n",
       "      <th>Algeria</th>\n",
       "      <td>1.056165e+08</td>\n",
       "      <td>9.849364e+07</td>\n",
       "      <td>5.473628e+14</td>\n",
       "      <td>2.339579e+07</td>\n",
       "      <td>4.421388e+06</td>\n",
       "    </tr>\n",
       "    <tr>\n",
       "      <th>Andorra</th>\n",
       "      <td>4.899063e+05</td>\n",
       "      <td>5.012414e+05</td>\n",
       "      <td>2.622635e+09</td>\n",
       "      <td>5.121167e+04</td>\n",
       "      <td>9.678096e+03</td>\n",
       "    </tr>\n",
       "    <tr>\n",
       "      <th>Angola</th>\n",
       "      <td>1.832811e+07</td>\n",
       "      <td>1.564974e+07</td>\n",
       "      <td>1.327515e+14</td>\n",
       "      <td>1.152178e+07</td>\n",
       "      <td>2.177413e+06</td>\n",
       "    </tr>\n",
       "    <tr>\n",
       "      <th>...</th>\n",
       "      <td>...</td>\n",
       "      <td>...</td>\n",
       "      <td>...</td>\n",
       "      <td>...</td>\n",
       "      <td>...</td>\n",
       "    </tr>\n",
       "    <tr>\n",
       "      <th>Venezuela</th>\n",
       "      <td>1.594604e+08</td>\n",
       "      <td>1.664493e+08</td>\n",
       "      <td>6.944326e+14</td>\n",
       "      <td>2.635209e+07</td>\n",
       "      <td>4.980077e+06</td>\n",
       "    </tr>\n",
       "    <tr>\n",
       "      <th>Vietnam</th>\n",
       "      <td>8.874727e+07</td>\n",
       "      <td>8.203855e+07</td>\n",
       "      <td>3.239388e+15</td>\n",
       "      <td>5.691563e+07</td>\n",
       "      <td>1.075604e+07</td>\n",
       "    </tr>\n",
       "    <tr>\n",
       "      <th>Yemen</th>\n",
       "      <td>1.651064e+07</td>\n",
       "      <td>1.766038e+07</td>\n",
       "      <td>2.655745e+13</td>\n",
       "      <td>5.153392e+06</td>\n",
       "      <td>9.738996e+05</td>\n",
       "    </tr>\n",
       "    <tr>\n",
       "      <th>Zambia</th>\n",
       "      <td>2.631958e+06</td>\n",
       "      <td>2.367880e+06</td>\n",
       "      <td>8.004490e+11</td>\n",
       "      <td>8.946782e+05</td>\n",
       "      <td>1.690783e+05</td>\n",
       "    </tr>\n",
       "    <tr>\n",
       "      <th>Zimbabwe</th>\n",
       "      <td>1.207684e+07</td>\n",
       "      <td>1.170129e+07</td>\n",
       "      <td>1.028269e+13</td>\n",
       "      <td>3.206664e+06</td>\n",
       "      <td>6.060026e+05</td>\n",
       "    </tr>\n",
       "  </tbody>\n",
       "</table>\n",
       "<p>188 rows × 5 columns</p>\n",
       "</div>"
      ],
      "text/plain": [
       "                     mean        median      variance  standard_deviation  \\\n",
       "Entity                                                                      \n",
       "Afghanistan  4.353566e+06  1.512384e+06  1.942948e+13        4.407888e+06   \n",
       "Albania      3.939502e+06  4.206272e+06  2.028632e+12        1.424301e+06   \n",
       "Algeria      1.056165e+08  9.849364e+07  5.473628e+14        2.339579e+07   \n",
       "Andorra      4.899063e+05  5.012414e+05  2.622635e+09        5.121167e+04   \n",
       "Angola       1.832811e+07  1.564974e+07  1.327515e+14        1.152178e+07   \n",
       "...                   ...           ...           ...                 ...   \n",
       "Venezuela    1.594604e+08  1.664493e+08  6.944326e+14        2.635209e+07   \n",
       "Vietnam      8.874727e+07  8.203855e+07  3.239388e+15        5.691563e+07   \n",
       "Yemen        1.651064e+07  1.766038e+07  2.655745e+13        5.153392e+06   \n",
       "Zambia       2.631958e+06  2.367880e+06  8.004490e+11        8.946782e+05   \n",
       "Zimbabwe     1.207684e+07  1.170129e+07  1.028269e+13        3.206664e+06   \n",
       "\n",
       "                      SEM  \n",
       "Entity                     \n",
       "Afghanistan  8.330125e+05  \n",
       "Albania      2.691675e+05  \n",
       "Algeria      4.421388e+06  \n",
       "Andorra      9.678096e+03  \n",
       "Angola       2.177413e+06  \n",
       "...                   ...  \n",
       "Venezuela    4.980077e+06  \n",
       "Vietnam      1.075604e+07  \n",
       "Yemen        9.738996e+05  \n",
       "Zambia       1.690783e+05  \n",
       "Zimbabwe     6.060026e+05  \n",
       "\n",
       "[188 rows x 5 columns]"
      ]
     },
     "execution_count": 5,
     "metadata": {},
     "output_type": "execute_result"
    }
   ],
   "source": [
    "analytics_df3 = pd.DataFrame()\n",
    "country_group3 = combined_df.groupby(['Entity'])\n",
    "analytics_df3['mean'] = country_group['Annual CO₂ emissions (tonnes )'].mean()\n",
    "analytics_df3['median']= country_group['Annual CO₂ emissions (tonnes )'].median()\n",
    "analytics_df3['variance'] = country_group['Annual CO₂ emissions (tonnes )'].var()\n",
    "analytics_df3['standard_deviation'] = country_group['Annual CO₂ emissions (tonnes )'].std()\n",
    "analytics_df3['SEM'] = country_group['Annual CO₂ emissions (tonnes )'].sem()\n",
    "analytics_df3"
   ]
  },
  {
   "cell_type": "code",
   "execution_count": 6,
   "metadata": {},
   "outputs": [],
   "source": [
    "country_list = []\n",
    "country_list1 = []\n",
    "country_list2 = []\n",
    "country_list3 = []\n",
    "country_list4 = []\n",
    "country_list5 = []\n",
    "country_list6 = []\n",
    "country_list7 = []\n",
    "xticks_holder = []\n",
    "counter2 = 1\n",
    "xticks_holder2 = []\n",
    "counter3 = 1\n",
    "for country in combined_df['Entity']:\n",
    "        if country_list.count(country) == 0:\n",
    "            country_list.append(country)\n",
    "\n",
    "            \n",
    "for country in combined_df['Entity']:\n",
    "    if counter2 < 31:\n",
    "        if country_list1.count(country) == 0:\n",
    "            country_list1.append(country)\n",
    "            xticks_holder.append(counter2)\n",
    "            counter2 = counter2 + 1\n",
    "    elif counter2 < 61:         \n",
    "        if country_list2.count(country) == 0:\n",
    "            country_list2.append(country)\n",
    "            counter2 = counter2 + 1            \n",
    "    elif counter2 < 91:         \n",
    "        if country_list3.count(country) == 0:\n",
    "            country_list3.append(country)\n",
    "            counter2 = counter2 + 1  \n",
    "    elif counter2 < 121:         \n",
    "        if country_list4.count(country) == 0:\n",
    "            country_list4.append(country)\n",
    "            counter2 = counter2 + 1  \n",
    "    elif counter2 < 151:         \n",
    "        if country_list5.count(country) == 0:\n",
    "            country_list5.append(country)\n",
    "            counter2 = counter2 + 1              \n",
    "            \n",
    "    elif counter2 < 181:         \n",
    "        if country_list6.count(country) == 0:\n",
    "            country_list6.append(country)\n",
    "            counter2 = counter2 + 1              \n",
    "            \n",
    "    elif counter2 < 220:         \n",
    "        if country_list7.count(country) == 0:\n",
    "            country_list7.append(country)\n",
    "            counter2 = counter2 + 1              \n",
    "            xticks_holder2.append(counter3)\n",
    "            counter3 = counter3 + 1\n"
   ]
  },
  {
   "cell_type": "code",
   "execution_count": 73,
   "metadata": {
    "scrolled": true
   },
   "outputs": [
    {
     "data": {
      "image/png": "[encoded data removed]",
      "text/plain": [
       "<Figure size 432x288 with 1 Axes>"
      ]
     },
     "metadata": {
      "needs_background": "light"
     },
     "output_type": "display_data"
    },
    {
     "data": {
      "text/plain": [
       "5741226725.928572"
      ]
     },
     "execution_count": 73,
     "metadata": {},
     "output_type": "execute_result"
    }
   ],
   "source": [
    "country_data_1 = []\n",
    "china_limit = combined_df.loc[combined_df['Entity'] == 'China']['Annual CO₂ emissions (tonnes )'].mean()\n",
    "for country in country_list1:\n",
    "    country_loop1 = combined_df['Annual CO₂ emissions (tonnes )'].loc[combined_df['Entity'] == country].mean()\n",
    "    \n",
    "    country_data_1.append(country_loop1)\n",
    "    plt.bar(country,country_loop1)\n",
    "plt.ylim(top=china_limit)\n",
    "plt.xticks(rotation=90)\n",
    "plt.show()\n",
    "china_limit"
   ]
  },
  {
   "cell_type": "code",
   "execution_count": 8,
   "metadata": {},
   "outputs": [
    {
     "name": "stdout",
     "output_type": "stream",
     "text": [
      "Azerbaijan  63052952.43\n",
      "Azerbaijan  60800253.65\n",
      "Azerbaijan  56175802.12\n",
      "Bahamas  2799296.0\n",
      "Bahamas  2414576.0\n",
      "Bahamas  2516529.39\n",
      "Bahamas  2565305.4\n",
      "Bahamas  2564350.48\n",
      "Barbados  741884.31\n",
      "Belarus  104134684.0\n",
      "Belarus  97040059.43\n",
      "Belarus  89990445.67\n",
      "Belarus  77615578.65\n",
      "Bermuda  729136.0\n",
      "Bhutan  919603.68\n",
      "Bhutan  987956.94\n",
      "Bhutan  1114581.02\n",
      "Bhutan  1166358.05\n",
      "Botswana  6986805.22\n",
      "Botswana  7102967.37\n",
      "Botswana  7098396.26\n",
      "Botswana  7874985.93\n",
      "Bulgaria  78672941.86\n",
      "Burundi  431530.64\n",
      "Burundi  476657.53\n",
      "Burundi  508147.73\n",
      "Burundi  529139.54\n"
     ]
    }
   ],
   "source": [
    "country_data_1b = []\n",
    "for country in country_list1:\n",
    "    country_loop1b = combined_df['Annual CO₂ emissions (tonnes )'].loc[combined_df['Entity'] == country]\n",
    "    \n",
    "    country_data_1b.append(country_loop1b)   \n",
    "    quartiles = country_loop1b.quantile([.25,.75])\n",
    "    lowerq = quartiles[0.25]\n",
    "    upperq = quartiles[0.75]\n",
    "    iqr = upperq-lowerq\n",
    "    iqr\n",
    "    upperoutl = 1.5*iqr + upperq\n",
    "    loweroutl = lowerq - 1.5*iqr\n",
    "    for x in country_loop1b:\n",
    "        if x > upperoutl or x < loweroutl :\n",
    "            print(f'{country}  {x}')"
   ]
  },
  {
   "cell_type": "code",
   "execution_count": 9,
   "metadata": {},
   "outputs": [
    {
     "data": {
      "text/plain": [
       "30"
      ]
     },
     "execution_count": 9,
     "metadata": {},
     "output_type": "execute_result"
    }
   ],
   "source": [
    "len(country_data_1b)"
   ]
  },
  {
   "cell_type": "code",
   "execution_count": 10,
   "metadata": {},
   "outputs": [
    {
     "data": {
      "image/png": "[encoded data removed]",
      "text/plain": [
       "<Figure size 432x288 with 1 Axes>"
      ]
     },
     "metadata": {
      "needs_background": "light"
     },
     "output_type": "display_data"
    }
   ],
   "source": [
    "plt.title('Emissions by country')\n",
    "plt.ylabel('Annual CO₂ emissions (tonnes )')\n",
    "plt.boxplot(country_data_1b)\n",
    "plt.xticks(rotation=90)\n",
    "\n",
    "plt.show()"
   ]
  },
  {
   "cell_type": "code",
   "execution_count": 74,
   "metadata": {},
   "outputs": [
    {
     "data": {
      "image/png": "[encoded data removed]",
      "text/plain": [
       "<Figure size 432x288 with 1 Axes>"
      ]
     },
     "metadata": {
      "needs_background": "light"
     },
     "output_type": "display_data"
    }
   ],
   "source": [
    "country_data_2 = []\n",
    "for country in country_list2:\n",
    "    country_loop2 = combined_df['Annual CO₂ emissions (tonnes )'].loc[combined_df['Entity'] == country].mean()\n",
    "    \n",
    "    country_data_2.append(country_loop2)\n",
    "    plt.bar(country,country_loop2)\n",
    "plt.ylim(top=china_limit)\n",
    "plt.xticks(rotation=90)\n",
    "plt.show()"
   ]
  },
  {
   "cell_type": "code",
   "execution_count": 12,
   "metadata": {},
   "outputs": [
    {
     "name": "stdout",
     "output_type": "stream",
     "text": [
      "Cote d'Ivoire  10854109.16\n",
      "Cote d'Ivoire  10757541.88\n",
      "Cote d'Ivoire  11724407.8\n",
      "Czech Republic  164227402.0\n",
      "Djibouti  788227.38\n",
      "Djibouti  817008.26\n",
      "Dominican Republic  9151661.33\n",
      "Dominican Republic  9952623.95\n",
      "Dominican Republic  10822336.86\n",
      "Dominican Republic  11667178.89\n",
      "Dominican Republic  12376794.03\n",
      "El Salvador  2467169.72\n",
      "El Salvador  3123868.16\n",
      "El Salvador  3287506.07\n",
      "Estonia  37068977.48\n",
      "Estonia  34037705.0\n",
      "Estonia  24514590.79\n",
      "Ethiopia  12381426.48\n",
      "Ethiopia  12941892.17\n",
      "Ethiopia  13396240.84\n"
     ]
    }
   ],
   "source": [
    "country_data_2b = []\n",
    "for country in country_list2:\n",
    "    country_loop2b = combined_df['Annual CO₂ emissions (tonnes )'].loc[combined_df['Entity'] == country]\n",
    "    \n",
    "    country_data_2b.append(country_loop2b)   \n",
    "    quartiles = country_loop2b.quantile([.25,.75])\n",
    "    lowerq = quartiles[0.25]\n",
    "    upperq = quartiles[0.75]\n",
    "    iqr = upperq-lowerq\n",
    "    iqr\n",
    "    upperoutl = 1.5*iqr + upperq\n",
    "    loweroutl = lowerq - 1.5*iqr\n",
    "    for x in country_loop2b:\n",
    "        if x > upperoutl or x < loweroutl :\n",
    "            print(f'{country}  {x}')"
   ]
  },
  {
   "cell_type": "code",
   "execution_count": 13,
   "metadata": {},
   "outputs": [
    {
     "data": {
      "image/png": "[encoded data removed]",
      "text/plain": [
       "<Figure size 432x288 with 1 Axes>"
      ]
     },
     "metadata": {
      "needs_background": "light"
     },
     "output_type": "display_data"
    }
   ],
   "source": [
    "plt.title('Emissions by country')\n",
    "plt.ylabel('Annual CO₂ emissions (tonnes )')\n",
    "plt.boxplot(country_data_2b)\n",
    "plt.xticks(rotation=90)\n",
    "\n",
    "plt.show()"
   ]
  },
  {
   "cell_type": "code",
   "execution_count": 75,
   "metadata": {},
   "outputs": [
    {
     "data": {
      "image/png": "[encoded data removed]",
      "text/plain": [
       "<Figure size 432x288 with 1 Axes>"
      ]
     },
     "metadata": {
      "needs_background": "light"
     },
     "output_type": "display_data"
    }
   ],
   "source": [
    "country_data_3 = []\n",
    "for country in country_list3:\n",
    "    country_loop3 = combined_df['Annual CO₂ emissions (tonnes )'].loc[combined_df['Entity'] == country].mean()\n",
    "    \n",
    "    country_data_3.append(country_loop3)\n",
    "    plt.bar(country,country_loop3)\n",
    "plt.ylim(top=china_limit)\n",
    "plt.xticks(rotation=90)\n",
    "plt.show()"
   ]
  },
  {
   "cell_type": "code",
   "execution_count": 15,
   "metadata": {},
   "outputs": [
    {
     "name": "stdout",
     "output_type": "stream",
     "text": [
      "Cote d'Ivoire  10854109.16\n",
      "Cote d'Ivoire  10757541.88\n",
      "Cote d'Ivoire  11724407.8\n",
      "Czech Republic  164227402.0\n",
      "Djibouti  788227.38\n",
      "Djibouti  817008.26\n",
      "Dominican Republic  9151661.33\n",
      "Dominican Republic  9952623.95\n",
      "Dominican Republic  10822336.86\n",
      "Dominican Republic  11667178.89\n",
      "Dominican Republic  12376794.03\n",
      "El Salvador  2467169.72\n",
      "El Salvador  3123868.16\n",
      "El Salvador  3287506.07\n",
      "Estonia  37068977.48\n",
      "Estonia  34037705.0\n",
      "Estonia  24514590.79\n",
      "Ethiopia  12381426.48\n",
      "Ethiopia  12941892.17\n",
      "Ethiopia  13396240.84\n"
     ]
    }
   ],
   "source": [
    "country_data_3b = []\n",
    "for country in country_list2:\n",
    "    country_loop3b = combined_df['Annual CO₂ emissions (tonnes )'].loc[combined_df['Entity'] == country]\n",
    "    \n",
    "    country_data_3b.append(country_loop3b)   \n",
    "    quartiles = country_loop3b.quantile([.25,.75])\n",
    "    lowerq = quartiles[0.25]\n",
    "    upperq = quartiles[0.75]\n",
    "    iqr = upperq-lowerq\n",
    "    iqr\n",
    "    upperoutl = 1.5*iqr + upperq\n",
    "    loweroutl = lowerq - 1.5*iqr\n",
    "    for x in country_loop3b:\n",
    "        if x > upperoutl or x < loweroutl :\n",
    "            print(f'{country}  {x}')"
   ]
  },
  {
   "cell_type": "code",
   "execution_count": 16,
   "metadata": {},
   "outputs": [
    {
     "data": {
      "image/png": "[encoded data removed]",
      "text/plain": [
       "<Figure size 432x288 with 1 Axes>"
      ]
     },
     "metadata": {
      "needs_background": "light"
     },
     "output_type": "display_data"
    }
   ],
   "source": [
    "plt.title('Emissions by country')\n",
    "plt.ylabel('Annual CO₂ emissions (tonnes )')\n",
    "plt.boxplot(country_data_2b)\n",
    "plt.xticks(rotation=90)\n",
    "\n",
    "plt.show()"
   ]
  },
  {
   "cell_type": "code",
   "execution_count": 76,
   "metadata": {},
   "outputs": [
    {
     "data": {
      "image/png": "[encoded data removed]",
      "text/plain": [
       "<Figure size 432x288 with 1 Axes>"
      ]
     },
     "metadata": {
      "needs_background": "light"
     },
     "output_type": "display_data"
    }
   ],
   "source": [
    "country_data_4 = []\n",
    "for country in country_list4:\n",
    "    country_loop4 = combined_df['Annual CO₂ emissions (tonnes )'].loc[combined_df['Entity'] == country].mean()\n",
    "    \n",
    "    country_data_4.append(country_loop4)\n",
    "    plt.bar(country,country_loop4)\n",
    "plt.ylim(top=china_limit)\n",
    "plt.xticks(rotation=90)\n",
    "plt.show()"
   ]
  },
  {
   "cell_type": "code",
   "execution_count": 78,
   "metadata": {},
   "outputs": [
    {
     "data": {
      "image/png": "[encoded data removed]",
      "text/plain": [
       "<Figure size 432x288 with 1 Axes>"
      ]
     },
     "metadata": {
      "needs_background": "light"
     },
     "output_type": "display_data"
    }
   ],
   "source": [
    "country_data_5 = []\n",
    "for country in country_list5:\n",
    "    country_loop5 = combined_df['Annual CO₂ emissions (tonnes )'].loc[combined_df['Entity'] == country].mean()\n",
    "    \n",
    "    country_data_5.append(country_loop5)\n",
    "    plt.bar(country,country_loop5)\n",
    "plt.ylim(top=china_limit)\n",
    "plt.xticks(rotation=90)\n",
    "plt.show()"
   ]
  },
  {
   "cell_type": "code",
   "execution_count": 79,
   "metadata": {},
   "outputs": [
    {
     "data": {
      "image/png": "[encoded data removed]",
      "text/plain": [
       "<Figure size 432x288 with 1 Axes>"
      ]
     },
     "metadata": {
      "needs_background": "light"
     },
     "output_type": "display_data"
    }
   ],
   "source": [
    "country_data_6 = []\n",
    "for country in country_list6:\n",
    "    country_loop6 = combined_df['Annual CO₂ emissions (tonnes )'].loc[combined_df['Entity'] == country].mean()\n",
    "    \n",
    "    country_data_6.append(country_loop6)\n",
    "    plt.bar(country,country_loop6)\n",
    "plt.ylim(top=china_limit)\n",
    "plt.xticks(rotation=90)\n",
    "plt.show()"
   ]
  },
  {
   "cell_type": "code",
   "execution_count": 80,
   "metadata": {},
   "outputs": [
    {
     "data": {
      "image/png": "[encoded data removed]",
      "text/plain": [
       "<Figure size 432x288 with 1 Axes>"
      ]
     },
     "metadata": {
      "needs_background": "light"
     },
     "output_type": "display_data"
    }
   ],
   "source": [
    "country_data_7 = []\n",
    "for country in country_list7:\n",
    "    country_loop7 = combined_df['Annual CO₂ emissions (tonnes )'].loc[combined_df['Entity'] == country].mean()\n",
    "    \n",
    "    country_data_7.append(country_loop7)\n",
    "    plt.bar(country,country_loop7)\n",
    "plt.ylim(top=china_limit)\n",
    "plt.xticks(rotation=90)\n",
    "plt.show()"
   ]
  },
  {
   "cell_type": "code",
   "execution_count": null,
   "metadata": {},
   "outputs": [],
   "source": []
  },
  {
   "cell_type": "code",
   "execution_count": null,
   "metadata": {},
   "outputs": [],
   "source": []
  },
  {
   "cell_type": "code",
   "execution_count": null,
   "metadata": {},
   "outputs": [],
   "source": []
  },
  {
   "cell_type": "code",
   "execution_count": null,
   "metadata": {},
   "outputs": [],
   "source": []
  },
  {
   "cell_type": "code",
   "execution_count": null,
   "metadata": {},
   "outputs": [],
   "source": []
  },
  {
   "cell_type": "code",
   "execution_count": null,
   "metadata": {},
   "outputs": [],
   "source": []
  },
  {
   "cell_type": "code",
   "execution_count": null,
   "metadata": {},
   "outputs": [],
   "source": []
  },
  {
   "cell_type": "code",
   "execution_count": null,
   "metadata": {},
   "outputs": [],
   "source": []
  },
  {
   "cell_type": "code",
   "execution_count": null,
   "metadata": {},
   "outputs": [],
   "source": []
  },
  {
   "cell_type": "code",
   "execution_count": null,
   "metadata": {},
   "outputs": [],
   "source": []
  },
  {
   "cell_type": "code",
   "execution_count": null,
   "metadata": {},
   "outputs": [],
   "source": []
  },
  {
   "cell_type": "code",
   "execution_count": null,
   "metadata": {},
   "outputs": [],
   "source": []
  },
  {
   "cell_type": "code",
   "execution_count": null,
   "metadata": {},
   "outputs": [],
   "source": []
  },
  {
   "cell_type": "code",
   "execution_count": null,
   "metadata": {},
   "outputs": [],
   "source": []
  },
  {
   "cell_type": "code",
   "execution_count": null,
   "metadata": {},
   "outputs": [],
   "source": []
  },
  {
   "cell_type": "code",
   "execution_count": null,
   "metadata": {},
   "outputs": [],
   "source": []
  },
  {
   "cell_type": "code",
   "execution_count": null,
   "metadata": {},
   "outputs": [],
   "source": []
  },
  {
   "cell_type": "code",
   "execution_count": null,
   "metadata": {},
   "outputs": [],
   "source": []
  },
  {
   "cell_type": "code",
   "execution_count": null,
   "metadata": {},
   "outputs": [],
   "source": []
  },
  {
   "cell_type": "code",
   "execution_count": null,
   "metadata": {},
   "outputs": [],
   "source": []
  },
  {
   "cell_type": "code",
   "execution_count": null,
   "metadata": {},
   "outputs": [],
   "source": []
  },
  {
   "cell_type": "code",
   "execution_count": 17,
   "metadata": {},
   "outputs": [
    {
     "data": {
      "text/html": [
       "<div>\n",
       "<style scoped>\n",
       "    .dataframe tbody tr th:only-of-type {\n",
       "        vertical-align: middle;\n",
       "    }\n",
       "\n",
       "    .dataframe tbody tr th {\n",
       "        vertical-align: top;\n",
       "    }\n",
       "\n",
       "    .dataframe thead th {\n",
       "        text-align: right;\n",
       "    }\n",
       "</style>\n",
       "<table border=\"1\" class=\"dataframe\">\n",
       "  <thead>\n",
       "    <tr style=\"text-align: right;\">\n",
       "      <th></th>\n",
       "      <th>Entity</th>\n",
       "      <th>Code_x</th>\n",
       "      <th>Year</th>\n",
       "      <th>Air pollution (total) (deaths per 100,000)</th>\n",
       "      <th>Indoor air pollution (deaths per 100,000)</th>\n",
       "      <th>Outdoor particulate matter (deaths per 100,000)</th>\n",
       "      <th>Outdoor ozone pollution (deaths per 100,000)</th>\n",
       "      <th>Annual CO₂ emissions (tonnes )</th>\n",
       "    </tr>\n",
       "  </thead>\n",
       "  <tbody>\n",
       "    <tr>\n",
       "      <th>6463</th>\n",
       "      <td>Zimbabwe</td>\n",
       "      <td>ZWE</td>\n",
       "      <td>2013</td>\n",
       "      <td>143.850145</td>\n",
       "      <td>113.456097</td>\n",
       "      <td>27.589603</td>\n",
       "      <td>4.426291</td>\n",
       "      <td>11536239.29</td>\n",
       "    </tr>\n",
       "    <tr>\n",
       "      <th>6464</th>\n",
       "      <td>Zimbabwe</td>\n",
       "      <td>ZWE</td>\n",
       "      <td>2014</td>\n",
       "      <td>138.200536</td>\n",
       "      <td>108.703566</td>\n",
       "      <td>26.760618</td>\n",
       "      <td>4.296971</td>\n",
       "      <td>11866348.41</td>\n",
       "    </tr>\n",
       "    <tr>\n",
       "      <th>6465</th>\n",
       "      <td>Zimbabwe</td>\n",
       "      <td>ZWE</td>\n",
       "      <td>2015</td>\n",
       "      <td>132.752553</td>\n",
       "      <td>104.340506</td>\n",
       "      <td>25.715415</td>\n",
       "      <td>4.200907</td>\n",
       "      <td>10907603.94</td>\n",
       "    </tr>\n",
       "    <tr>\n",
       "      <th>6466</th>\n",
       "      <td>Zimbabwe</td>\n",
       "      <td>ZWE</td>\n",
       "      <td>2016</td>\n",
       "      <td>128.692138</td>\n",
       "      <td>100.392287</td>\n",
       "      <td>25.643570</td>\n",
       "      <td>4.117173</td>\n",
       "      <td>9932649.88</td>\n",
       "    </tr>\n",
       "    <tr>\n",
       "      <th>6467</th>\n",
       "      <td>Zimbabwe</td>\n",
       "      <td>ZWE</td>\n",
       "      <td>2017</td>\n",
       "      <td>125.028843</td>\n",
       "      <td>96.235996</td>\n",
       "      <td>26.166182</td>\n",
       "      <td>4.052495</td>\n",
       "      <td>10397718.47</td>\n",
       "    </tr>\n",
       "  </tbody>\n",
       "</table>\n",
       "</div>"
      ],
      "text/plain": [
       "        Entity Code_x  Year  Air pollution (total) (deaths per 100,000)  \\\n",
       "6463  Zimbabwe    ZWE  2013                                  143.850145   \n",
       "6464  Zimbabwe    ZWE  2014                                  138.200536   \n",
       "6465  Zimbabwe    ZWE  2015                                  132.752553   \n",
       "6466  Zimbabwe    ZWE  2016                                  128.692138   \n",
       "6467  Zimbabwe    ZWE  2017                                  125.028843   \n",
       "\n",
       "      Indoor air pollution (deaths per 100,000)  \\\n",
       "6463                                 113.456097   \n",
       "6464                                 108.703566   \n",
       "6465                                 104.340506   \n",
       "6466                                 100.392287   \n",
       "6467                                  96.235996   \n",
       "\n",
       "      Outdoor particulate matter (deaths per 100,000)  \\\n",
       "6463                                        27.589603   \n",
       "6464                                        26.760618   \n",
       "6465                                        25.715415   \n",
       "6466                                        25.643570   \n",
       "6467                                        26.166182   \n",
       "\n",
       "      Outdoor ozone pollution (deaths per 100,000)  \\\n",
       "6463                                      4.426291   \n",
       "6464                                      4.296971   \n",
       "6465                                      4.200907   \n",
       "6466                                      4.117173   \n",
       "6467                                      4.052495   \n",
       "\n",
       "      Annual CO₂ emissions (tonnes )  \n",
       "6463                     11536239.29  \n",
       "6464                     11866348.41  \n",
       "6465                     10907603.94  \n",
       "6466                      9932649.88  \n",
       "6467                     10397718.47  "
      ]
     },
     "execution_count": 17,
     "metadata": {},
     "output_type": "execute_result"
    }
   ],
   "source": [
    "combined_df.tail()"
   ]
  },
  {
   "cell_type": "code",
   "execution_count": 18,
   "metadata": {},
   "outputs": [
    {
     "name": "stdout",
     "output_type": "stream",
     "text": [
      "Bangladesh  109.40404314209871\n",
      "Bangladesh  108.52547816698328\n",
      "Belarus  52.68628081874557\n",
      "Belarus  50.785542548561324\n",
      "Belarus  50.7119499458568\n",
      "Botswana  111.81707771953677\n",
      "Botswana  107.98255460968159\n",
      "Botswana  103.48233640037012\n",
      "Botswana  98.29036673508546\n",
      "Botswana  93.86793415566036\n",
      "Botswana  89.17545942463941\n",
      "Botswana  69.80400607591162\n",
      "Brunei  47.634960325348274\n",
      "Dominican Republic  47.11629528792364\n",
      "Dominican Republic  45.25602999128172\n",
      "Dominican Republic  43.194150839280965\n",
      "Dominican Republic  42.29925506317322\n",
      "Ecuador  47.71063935166995\n",
      "Ecuador  48.83898616805647\n",
      "Ecuador  47.18930004021041\n",
      "Ecuador  44.8477228757514\n",
      "Ecuador  29.05272340252255\n",
      "Ecuador  28.041828651523147\n",
      "Ecuador  27.55363736770889\n",
      "Ecuador  27.135242910048547\n",
      "Ghana  110.73096213684073\n",
      "Ghana  111.13618841928104\n",
      "Ghana  109.08762408781466\n",
      "Ghana  105.43693391989392\n",
      "Grenada  90.94120059147585\n",
      "Grenada  86.36907290995197\n",
      "Kiribati  156.12519549052615\n",
      "Kiribati  153.74024119230128\n",
      "Libya  61.910401205137994\n",
      "Libya  71.88861516355894\n",
      "Libya  72.78869191749322\n",
      "Papua New Guinea  318.4632533182508\n",
      "Papua New Guinea  249.2745489254629\n",
      "Papua New Guinea  245.29640397227246\n",
      "Samoa  78.03129125541855\n",
      "Samoa  76.83415607894658\n",
      "Swaziland  106.34176901707585\n"
     ]
    }
   ],
   "source": [
    "country_data = []\n",
    "for country in country_list:\n",
    "    country_loop = combined_df['Air pollution (total) (deaths per 100,000)'].loc[combined_df['Entity'] == country]\n",
    "    country_data.append(country_loop)\n",
    "    quartiles = country_loop.quantile([.25,.75])\n",
    "    lowerq = quartiles[0.25]\n",
    "    upperq = quartiles[0.75]\n",
    "    iqr = upperq-lowerq\n",
    "    iqr\n",
    "    upperoutl = 1.5*iqr + upperq\n",
    "    loweroutl = lowerq - 1.5*iqr\n",
    "    \n",
    "    for x in country_loop:\n",
    "        if x > upperoutl or x < loweroutl :\n",
    "            print(f'{country}  {x}')"
   ]
  },
  {
   "cell_type": "code",
   "execution_count": 19,
   "metadata": {},
   "outputs": [
    {
     "data": {
      "text/plain": [
       "188"
      ]
     },
     "execution_count": 19,
     "metadata": {},
     "output_type": "execute_result"
    }
   ],
   "source": [
    "len(country_list)"
   ]
  },
  {
   "cell_type": "code",
   "execution_count": null,
   "metadata": {},
   "outputs": [],
   "source": []
  },
  {
   "cell_type": "code",
   "execution_count": 20,
   "metadata": {},
   "outputs": [
    {
     "name": "stdout",
     "output_type": "stream",
     "text": [
      "The correlation between both factors is 0.07\n",
      "The linear regression equation is y = 0.0x + 34.78\n"
     ]
    },
    {
     "data": {
      "image/png": "[encoded data removed]",
      "text/plain": [
       "<Figure size 432x288 with 1 Axes>"
      ]
     },
     "metadata": {
      "needs_background": "light"
     },
     "output_type": "display_data"
    }
   ],
   "source": [
    "x_axis2 = country_group['Annual CO₂ emissions (tonnes )'].mean()\n",
    "y_axis2 = country_group['Outdoor particulate matter (deaths per 100,000)'].mean()\n",
    "correlation = st.pearsonr(x_axis2,y_axis2)\n",
    "(slope, intercept, rvalue, pvalue, stderr) = st.linregress(x_axis2, y_axis2)\n",
    "regress_values = x_axis2 * slope + intercept\n",
    "line_eq = \"y = \" + str(round(slope,2)) + \"x + \" + str(round(intercept,2))\n",
    "plt.scatter(x_axis2,y_axis2)\n",
    "plt.plot(x_axis2,regress_values,\"r-\")\n",
    "plt.annotate(line_eq,(34,24),fontsize=15,color=\"red\")\n",
    "plt.xlabel('Average Annual CO2 Emmissions')\n",
    "plt.ylabel('Average Air Pollution Deaths')\n",
    "print(f\"The correlation between both factors is {round(correlation[0],2)}\")\n",
    "print(f'The linear regression equation is {line_eq}')\n",
    "plt.show()"
   ]
  },
  {
   "cell_type": "code",
   "execution_count": 21,
   "metadata": {},
   "outputs": [
    {
     "data": {
      "text/html": [
       "<div>\n",
       "<style scoped>\n",
       "    .dataframe tbody tr th:only-of-type {\n",
       "        vertical-align: middle;\n",
       "    }\n",
       "\n",
       "    .dataframe tbody tr th {\n",
       "        vertical-align: top;\n",
       "    }\n",
       "\n",
       "    .dataframe thead th {\n",
       "        text-align: right;\n",
       "    }\n",
       "</style>\n",
       "<table border=\"1\" class=\"dataframe\">\n",
       "  <thead>\n",
       "    <tr style=\"text-align: right;\">\n",
       "      <th></th>\n",
       "      <th>Entity</th>\n",
       "      <th>Code_x</th>\n",
       "      <th>Year</th>\n",
       "      <th>Air pollution (total) (deaths per 100,000)</th>\n",
       "      <th>Indoor air pollution (deaths per 100,000)</th>\n",
       "      <th>Outdoor particulate matter (deaths per 100,000)</th>\n",
       "      <th>Outdoor ozone pollution (deaths per 100,000)</th>\n",
       "      <th>Annual CO₂ emissions (tonnes )</th>\n",
       "    </tr>\n",
       "  </thead>\n",
       "  <tbody>\n",
       "    <tr>\n",
       "      <th>0</th>\n",
       "      <td>Afghanistan</td>\n",
       "      <td>AFG</td>\n",
       "      <td>1990</td>\n",
       "      <td>299.477309</td>\n",
       "      <td>250.362910</td>\n",
       "      <td>46.446589</td>\n",
       "      <td>5.616442</td>\n",
       "      <td>2602407.59</td>\n",
       "    </tr>\n",
       "    <tr>\n",
       "      <th>1</th>\n",
       "      <td>Afghanistan</td>\n",
       "      <td>AFG</td>\n",
       "      <td>1991</td>\n",
       "      <td>291.277967</td>\n",
       "      <td>242.575125</td>\n",
       "      <td>46.033841</td>\n",
       "      <td>5.603960</td>\n",
       "      <td>2426486.16</td>\n",
       "    </tr>\n",
       "    <tr>\n",
       "      <th>2</th>\n",
       "      <td>Afghanistan</td>\n",
       "      <td>AFG</td>\n",
       "      <td>1992</td>\n",
       "      <td>278.963056</td>\n",
       "      <td>232.043878</td>\n",
       "      <td>44.243766</td>\n",
       "      <td>5.611822</td>\n",
       "      <td>1381521.84</td>\n",
       "    </tr>\n",
       "    <tr>\n",
       "      <th>3</th>\n",
       "      <td>Afghanistan</td>\n",
       "      <td>AFG</td>\n",
       "      <td>1993</td>\n",
       "      <td>278.790815</td>\n",
       "      <td>231.648134</td>\n",
       "      <td>44.440148</td>\n",
       "      <td>5.655266</td>\n",
       "      <td>1333837.11</td>\n",
       "    </tr>\n",
       "    <tr>\n",
       "      <th>4</th>\n",
       "      <td>Afghanistan</td>\n",
       "      <td>AFG</td>\n",
       "      <td>1994</td>\n",
       "      <td>287.162923</td>\n",
       "      <td>238.837177</td>\n",
       "      <td>45.594328</td>\n",
       "      <td>5.718922</td>\n",
       "      <td>1282488.38</td>\n",
       "    </tr>\n",
       "  </tbody>\n",
       "</table>\n",
       "</div>"
      ],
      "text/plain": [
       "        Entity Code_x  Year  Air pollution (total) (deaths per 100,000)  \\\n",
       "0  Afghanistan    AFG  1990                                  299.477309   \n",
       "1  Afghanistan    AFG  1991                                  291.277967   \n",
       "2  Afghanistan    AFG  1992                                  278.963056   \n",
       "3  Afghanistan    AFG  1993                                  278.790815   \n",
       "4  Afghanistan    AFG  1994                                  287.162923   \n",
       "\n",
       "   Indoor air pollution (deaths per 100,000)  \\\n",
       "0                                 250.362910   \n",
       "1                                 242.575125   \n",
       "2                                 232.043878   \n",
       "3                                 231.648134   \n",
       "4                                 238.837177   \n",
       "\n",
       "   Outdoor particulate matter (deaths per 100,000)  \\\n",
       "0                                        46.446589   \n",
       "1                                        46.033841   \n",
       "2                                        44.243766   \n",
       "3                                        44.440148   \n",
       "4                                        45.594328   \n",
       "\n",
       "   Outdoor ozone pollution (deaths per 100,000)  \\\n",
       "0                                      5.616442   \n",
       "1                                      5.603960   \n",
       "2                                      5.611822   \n",
       "3                                      5.655266   \n",
       "4                                      5.718922   \n",
       "\n",
       "   Annual CO₂ emissions (tonnes )  \n",
       "0                      2602407.59  \n",
       "1                      2426486.16  \n",
       "2                      1381521.84  \n",
       "3                      1333837.11  \n",
       "4                      1282488.38  "
      ]
     },
     "execution_count": 21,
     "metadata": {},
     "output_type": "execute_result"
    }
   ],
   "source": [
    "combined_df.head()"
   ]
  },
  {
   "cell_type": "code",
   "execution_count": 22,
   "metadata": {},
   "outputs": [
    {
     "data": {
      "text/html": [
       "<div>\n",
       "<style scoped>\n",
       "    .dataframe tbody tr th:only-of-type {\n",
       "        vertical-align: middle;\n",
       "    }\n",
       "\n",
       "    .dataframe tbody tr th {\n",
       "        vertical-align: top;\n",
       "    }\n",
       "\n",
       "    .dataframe thead th {\n",
       "        text-align: right;\n",
       "    }\n",
       "</style>\n",
       "<table border=\"1\" class=\"dataframe\">\n",
       "  <thead>\n",
       "    <tr style=\"text-align: right;\">\n",
       "      <th></th>\n",
       "      <th>Entity</th>\n",
       "      <th>Code_x</th>\n",
       "      <th>Year</th>\n",
       "      <th>Air pollution (total) (deaths per 100,000)</th>\n",
       "      <th>Indoor air pollution (deaths per 100,000)</th>\n",
       "      <th>Outdoor particulate matter (deaths per 100,000)</th>\n",
       "      <th>Outdoor ozone pollution (deaths per 100,000)</th>\n",
       "      <th>Annual CO₂ emissions (tonnes )</th>\n",
       "    </tr>\n",
       "  </thead>\n",
       "  <tbody>\n",
       "    <tr>\n",
       "      <th>27</th>\n",
       "      <td>Afghanistan</td>\n",
       "      <td>AFG</td>\n",
       "      <td>2017</td>\n",
       "      <td>183.941387</td>\n",
       "      <td>134.993753</td>\n",
       "      <td>45.737662</td>\n",
       "      <td>5.810625</td>\n",
       "      <td>1.301474e+07</td>\n",
       "    </tr>\n",
       "    <tr>\n",
       "      <th>55</th>\n",
       "      <td>Albania</td>\n",
       "      <td>ALB</td>\n",
       "      <td>2017</td>\n",
       "      <td>40.481124</td>\n",
       "      <td>18.280754</td>\n",
       "      <td>20.837393</td>\n",
       "      <td>1.803884</td>\n",
       "      <td>6.379207e+06</td>\n",
       "    </tr>\n",
       "    <tr>\n",
       "      <th>83</th>\n",
       "      <td>Algeria</td>\n",
       "      <td>DZA</td>\n",
       "      <td>2017</td>\n",
       "      <td>43.683512</td>\n",
       "      <td>0.191767</td>\n",
       "      <td>41.976233</td>\n",
       "      <td>2.052064</td>\n",
       "      <td>1.505514e+08</td>\n",
       "    </tr>\n",
       "    <tr>\n",
       "      <th>167</th>\n",
       "      <td>Andorra</td>\n",
       "      <td>AND</td>\n",
       "      <td>2017</td>\n",
       "      <td>15.569478</td>\n",
       "      <td>0.165664</td>\n",
       "      <td>13.088531</td>\n",
       "      <td>2.708944</td>\n",
       "      <td>5.201838e+05</td>\n",
       "    </tr>\n",
       "    <tr>\n",
       "      <th>195</th>\n",
       "      <td>Angola</td>\n",
       "      <td>AGO</td>\n",
       "      <td>2017</td>\n",
       "      <td>95.219909</td>\n",
       "      <td>62.199058</td>\n",
       "      <td>29.759293</td>\n",
       "      <td>5.029588</td>\n",
       "      <td>3.538993e+07</td>\n",
       "    </tr>\n",
       "    <tr>\n",
       "      <th>...</th>\n",
       "      <td>...</td>\n",
       "      <td>...</td>\n",
       "      <td>...</td>\n",
       "      <td>...</td>\n",
       "      <td>...</td>\n",
       "      <td>...</td>\n",
       "      <td>...</td>\n",
       "      <td>...</td>\n",
       "    </tr>\n",
       "    <tr>\n",
       "      <th>6243</th>\n",
       "      <td>Venezuela</td>\n",
       "      <td>VEN</td>\n",
       "      <td>2017</td>\n",
       "      <td>34.746922</td>\n",
       "      <td>0.472981</td>\n",
       "      <td>33.052264</td>\n",
       "      <td>1.501719</td>\n",
       "      <td>1.595676e+08</td>\n",
       "    </tr>\n",
       "    <tr>\n",
       "      <th>6271</th>\n",
       "      <td>Vietnam</td>\n",
       "      <td>VNM</td>\n",
       "      <td>2017</td>\n",
       "      <td>60.317533</td>\n",
       "      <td>25.636264</td>\n",
       "      <td>32.800211</td>\n",
       "      <td>2.634434</td>\n",
       "      <td>1.988265e+08</td>\n",
       "    </tr>\n",
       "    <tr>\n",
       "      <th>6411</th>\n",
       "      <td>Yemen</td>\n",
       "      <td>YEM</td>\n",
       "      <td>2017</td>\n",
       "      <td>96.501351</td>\n",
       "      <td>36.355334</td>\n",
       "      <td>58.039785</td>\n",
       "      <td>3.107451</td>\n",
       "      <td>1.896575e+07</td>\n",
       "    </tr>\n",
       "    <tr>\n",
       "      <th>6439</th>\n",
       "      <td>Zambia</td>\n",
       "      <td>ZMB</td>\n",
       "      <td>2017</td>\n",
       "      <td>98.869963</td>\n",
       "      <td>74.844720</td>\n",
       "      <td>21.537253</td>\n",
       "      <td>4.015376</td>\n",
       "      <td>4.746148e+06</td>\n",
       "    </tr>\n",
       "    <tr>\n",
       "      <th>6467</th>\n",
       "      <td>Zimbabwe</td>\n",
       "      <td>ZWE</td>\n",
       "      <td>2017</td>\n",
       "      <td>125.028843</td>\n",
       "      <td>96.235996</td>\n",
       "      <td>26.166182</td>\n",
       "      <td>4.052495</td>\n",
       "      <td>1.039772e+07</td>\n",
       "    </tr>\n",
       "  </tbody>\n",
       "</table>\n",
       "<p>188 rows × 8 columns</p>\n",
       "</div>"
      ],
      "text/plain": [
       "           Entity Code_x  Year  Air pollution (total) (deaths per 100,000)  \\\n",
       "27    Afghanistan    AFG  2017                                  183.941387   \n",
       "55        Albania    ALB  2017                                   40.481124   \n",
       "83        Algeria    DZA  2017                                   43.683512   \n",
       "167       Andorra    AND  2017                                   15.569478   \n",
       "195        Angola    AGO  2017                                   95.219909   \n",
       "...           ...    ...   ...                                         ...   \n",
       "6243    Venezuela    VEN  2017                                   34.746922   \n",
       "6271      Vietnam    VNM  2017                                   60.317533   \n",
       "6411        Yemen    YEM  2017                                   96.501351   \n",
       "6439       Zambia    ZMB  2017                                   98.869963   \n",
       "6467     Zimbabwe    ZWE  2017                                  125.028843   \n",
       "\n",
       "      Indoor air pollution (deaths per 100,000)  \\\n",
       "27                                   134.993753   \n",
       "55                                    18.280754   \n",
       "83                                     0.191767   \n",
       "167                                    0.165664   \n",
       "195                                   62.199058   \n",
       "...                                         ...   \n",
       "6243                                   0.472981   \n",
       "6271                                  25.636264   \n",
       "6411                                  36.355334   \n",
       "6439                                  74.844720   \n",
       "6467                                  96.235996   \n",
       "\n",
       "      Outdoor particulate matter (deaths per 100,000)  \\\n",
       "27                                          45.737662   \n",
       "55                                          20.837393   \n",
       "83                                          41.976233   \n",
       "167                                         13.088531   \n",
       "195                                         29.759293   \n",
       "...                                               ...   \n",
       "6243                                        33.052264   \n",
       "6271                                        32.800211   \n",
       "6411                                        58.039785   \n",
       "6439                                        21.537253   \n",
       "6467                                        26.166182   \n",
       "\n",
       "      Outdoor ozone pollution (deaths per 100,000)  \\\n",
       "27                                        5.810625   \n",
       "55                                        1.803884   \n",
       "83                                        2.052064   \n",
       "167                                       2.708944   \n",
       "195                                       5.029588   \n",
       "...                                            ...   \n",
       "6243                                      1.501719   \n",
       "6271                                      2.634434   \n",
       "6411                                      3.107451   \n",
       "6439                                      4.015376   \n",
       "6467                                      4.052495   \n",
       "\n",
       "      Annual CO₂ emissions (tonnes )  \n",
       "27                      1.301474e+07  \n",
       "55                      6.379207e+06  \n",
       "83                      1.505514e+08  \n",
       "167                     5.201838e+05  \n",
       "195                     3.538993e+07  \n",
       "...                              ...  \n",
       "6243                    1.595676e+08  \n",
       "6271                    1.988265e+08  \n",
       "6411                    1.896575e+07  \n",
       "6439                    4.746148e+06  \n",
       "6467                    1.039772e+07  \n",
       "\n",
       "[188 rows x 8 columns]"
      ]
     },
     "execution_count": 22,
     "metadata": {},
     "output_type": "execute_result"
    }
   ],
   "source": [
    "year_group = pd.DataFrame()\n",
    "year_group = combined_df.loc[(combined_df['Year'] == 2017) & (combined_df['Annual CO₂ emissions (tonnes )'] != 0)]\n",
    "year_group"
   ]
  },
  {
   "cell_type": "code",
   "execution_count": 23,
   "metadata": {},
   "outputs": [],
   "source": [
    "country_data9 = []\n",
    "for country in country_list:\n",
    "    country_loop9 = year_group['Air pollution (total) (deaths per 100,000)'].loc[year_group['Entity'] == country]\n",
    "    country_data9.append(country_loop9)\n",
    "    quartiles = country_loop9.quantile([.25,.75])\n",
    "    lowerq = quartiles[0.25]\n",
    "    upperq = quartiles[0.75]\n",
    "    iqr = upperq-lowerq\n",
    "    iqr\n",
    "    upperoutl = 1.5*iqr + upperq\n",
    "    loweroutl = lowerq - 1.5*iqr\n",
    "    \n",
    "    for x in country_loop9:\n",
    "        if x > upperoutl or x < loweroutl :\n",
    "            print(f'{country}  {x}')"
   ]
  },
  {
   "cell_type": "code",
   "execution_count": 24,
   "metadata": {},
   "outputs": [],
   "source": [
    "country_data8 = []\n",
    "for country in country_list:\n",
    "    country_loop8 = year_group['Annual CO₂ emissions (tonnes )'].loc[year_group['Entity'] == country]\n",
    "    country_data8.append(country_loop8)\n",
    "    quartiles = country_loop8.quantile([.25,.75])\n",
    "    lowerq = quartiles[0.25]\n",
    "    upperq = quartiles[0.75]\n",
    "    iqr = upperq-lowerq\n",
    "    iqr\n",
    "    upperoutl = 1.5*iqr + upperq\n",
    "    loweroutl = lowerq - 1.5*iqr\n",
    "    \n",
    "    for x in country_loop8:\n",
    "        if x > upperoutl or x < loweroutl :\n",
    "            print(f'{country}  {x}')"
   ]
  },
  {
   "cell_type": "code",
   "execution_count": 25,
   "metadata": {},
   "outputs": [
    {
     "name": "stdout",
     "output_type": "stream",
     "text": [
      "The correlation between both factors is 0.08\n",
      "The linear regression equation is y = 0.0x + 30.74\n"
     ]
    },
    {
     "data": {
      "image/png": "[encoded data removed]",
      "text/plain": [
       "<Figure size 432x288 with 1 Axes>"
      ]
     },
     "metadata": {
      "needs_background": "light"
     },
     "output_type": "display_data"
    }
   ],
   "source": [
    "x_axis2 = year_group['Annual CO₂ emissions (tonnes )']\n",
    "y_axis2 = year_group['Outdoor particulate matter (deaths per 100,000)']\n",
    "correlation = st.pearsonr(x_axis2,y_axis2)\n",
    "(slope, intercept, rvalue, pvalue, stderr) = st.linregress(x_axis2, y_axis2)\n",
    "regress_values = x_axis2 * slope + intercept\n",
    "line_eq = \"y = \" + str(round(slope,2)) + \"x + \" + str(round(intercept,2))\n",
    "plt.scatter(x_axis2,y_axis2)\n",
    "plt.plot(x_axis2,regress_values,\"r-\")\n",
    "plt.annotate(line_eq,(34,24),fontsize=15,color=\"red\")\n",
    "plt.xlabel('Average Annual CO2 Emmissions')\n",
    "plt.ylabel('Average Air Pollution Deaths')\n",
    "print(f\"The correlation between both factors is {round(correlation[0],2)}\")\n",
    "print(f'The linear regression equation is {line_eq}')\n",
    "plt.show()"
   ]
  },
  {
   "cell_type": "code",
   "execution_count": 39,
   "metadata": {},
   "outputs": [],
   "source": [
    "top_bottom_df = pd.DataFrame()\n",
    "top_bottom_df['Country'] = combined_df['Entity']\n",
    "top_bottom_df['Annual CO₂ emissions (tonnes)'] = combined_df['Annual CO₂ emissions (tonnes )']\n",
    "top_bottom_df['Year'] = combined_df['Year']\n",
    "top_bottom_df['Outdoor particulate matter (deaths per 100,000)'] = combined_df['Outdoor particulate matter (deaths per 100,000)']\n",
    "top_bottom_df = top_bottom_df.loc[top_bottom_df['Year'] == 2017]\n",
    "\n"
   ]
  },
  {
   "cell_type": "code",
   "execution_count": 40,
   "metadata": {},
   "outputs": [
    {
     "data": {
      "text/html": [
       "<div>\n",
       "<style scoped>\n",
       "    .dataframe tbody tr th:only-of-type {\n",
       "        vertical-align: middle;\n",
       "    }\n",
       "\n",
       "    .dataframe tbody tr th {\n",
       "        vertical-align: top;\n",
       "    }\n",
       "\n",
       "    .dataframe thead th {\n",
       "        text-align: right;\n",
       "    }\n",
       "</style>\n",
       "<table border=\"1\" class=\"dataframe\">\n",
       "  <thead>\n",
       "    <tr style=\"text-align: right;\">\n",
       "      <th></th>\n",
       "      <th>Country</th>\n",
       "      <th>Annual CO₂ emissions (tonnes)</th>\n",
       "      <th>Year</th>\n",
       "      <th>Outdoor particulate matter (deaths per 100,000)</th>\n",
       "    </tr>\n",
       "  </thead>\n",
       "  <tbody>\n",
       "    <tr>\n",
       "      <th>1287</th>\n",
       "      <td>China</td>\n",
       "      <td>9.838754e+09</td>\n",
       "      <td>2017</td>\n",
       "      <td>49.367142</td>\n",
       "    </tr>\n",
       "    <tr>\n",
       "      <th>6103</th>\n",
       "      <td>United States</td>\n",
       "      <td>5.269530e+09</td>\n",
       "      <td>2017</td>\n",
       "      <td>15.043925</td>\n",
       "    </tr>\n",
       "    <tr>\n",
       "      <th>2687</th>\n",
       "      <td>India</td>\n",
       "      <td>2.466765e+09</td>\n",
       "      <td>2017</td>\n",
       "      <td>70.803435</td>\n",
       "    </tr>\n",
       "    <tr>\n",
       "      <th>4703</th>\n",
       "      <td>Russia</td>\n",
       "      <td>1.692795e+09</td>\n",
       "      <td>2017</td>\n",
       "      <td>41.358185</td>\n",
       "    </tr>\n",
       "    <tr>\n",
       "      <th>2911</th>\n",
       "      <td>Japan</td>\n",
       "      <td>1.205061e+09</td>\n",
       "      <td>2017</td>\n",
       "      <td>10.292936</td>\n",
       "    </tr>\n",
       "    <tr>\n",
       "      <th>2183</th>\n",
       "      <td>Germany</td>\n",
       "      <td>7.993732e+08</td>\n",
       "      <td>2017</td>\n",
       "      <td>17.597898</td>\n",
       "    </tr>\n",
       "    <tr>\n",
       "      <th>2743</th>\n",
       "      <td>Iran</td>\n",
       "      <td>6.723123e+08</td>\n",
       "      <td>2017</td>\n",
       "      <td>43.691643</td>\n",
       "    </tr>\n",
       "    <tr>\n",
       "      <th>4871</th>\n",
       "      <td>Saudi Arabia</td>\n",
       "      <td>6.350111e+08</td>\n",
       "      <td>2017</td>\n",
       "      <td>62.143097</td>\n",
       "    </tr>\n",
       "    <tr>\n",
       "      <th>5235</th>\n",
       "      <td>South Korea</td>\n",
       "      <td>6.160967e+08</td>\n",
       "      <td>2017</td>\n",
       "      <td>20.123075</td>\n",
       "    </tr>\n",
       "    <tr>\n",
       "      <th>979</th>\n",
       "      <td>Canada</td>\n",
       "      <td>5.727826e+08</td>\n",
       "      <td>2017</td>\n",
       "      <td>9.110733</td>\n",
       "    </tr>\n",
       "  </tbody>\n",
       "</table>\n",
       "</div>"
      ],
      "text/plain": [
       "            Country  Annual CO₂ emissions (tonnes)  Year  \\\n",
       "1287          China                   9.838754e+09  2017   \n",
       "6103  United States                   5.269530e+09  2017   \n",
       "2687          India                   2.466765e+09  2017   \n",
       "4703         Russia                   1.692795e+09  2017   \n",
       "2911          Japan                   1.205061e+09  2017   \n",
       "2183        Germany                   7.993732e+08  2017   \n",
       "2743           Iran                   6.723123e+08  2017   \n",
       "4871   Saudi Arabia                   6.350111e+08  2017   \n",
       "5235    South Korea                   6.160967e+08  2017   \n",
       "979          Canada                   5.727826e+08  2017   \n",
       "\n",
       "      Outdoor particulate matter (deaths per 100,000)  \n",
       "1287                                        49.367142  \n",
       "6103                                        15.043925  \n",
       "2687                                        70.803435  \n",
       "4703                                        41.358185  \n",
       "2911                                        10.292936  \n",
       "2183                                        17.597898  \n",
       "2743                                        43.691643  \n",
       "4871                                        62.143097  \n",
       "5235                                        20.123075  \n",
       "979                                          9.110733  "
      ]
     },
     "execution_count": 40,
     "metadata": {},
     "output_type": "execute_result"
    }
   ],
   "source": [
    "top_df = top_bottom_df.sort_values(by='Annual CO₂ emissions (tonnes)', ascending=False)\n",
    "top_df = top_df.iloc[:10]\n",
    "top_df"
   ]
  },
  {
   "cell_type": "code",
   "execution_count": 41,
   "metadata": {},
   "outputs": [
    {
     "data": {
      "text/html": [
       "<div>\n",
       "<style scoped>\n",
       "    .dataframe tbody tr th:only-of-type {\n",
       "        vertical-align: middle;\n",
       "    }\n",
       "\n",
       "    .dataframe tbody tr th {\n",
       "        vertical-align: top;\n",
       "    }\n",
       "\n",
       "    .dataframe thead th {\n",
       "        text-align: right;\n",
       "    }\n",
       "</style>\n",
       "<table border=\"1\" class=\"dataframe\">\n",
       "  <thead>\n",
       "    <tr style=\"text-align: right;\">\n",
       "      <th></th>\n",
       "      <th>Country</th>\n",
       "      <th>Annual CO₂ emissions (tonnes)</th>\n",
       "      <th>Year</th>\n",
       "      <th>Outdoor particulate matter (deaths per 100,000)</th>\n",
       "    </tr>\n",
       "  </thead>\n",
       "  <tbody>\n",
       "    <tr>\n",
       "      <th>3023</th>\n",
       "      <td>Kiribati</td>\n",
       "      <td>73409.05</td>\n",
       "      <td>2017</td>\n",
       "      <td>15.174841</td>\n",
       "    </tr>\n",
       "    <tr>\n",
       "      <th>4843</th>\n",
       "      <td>Sao Tome and Principe</td>\n",
       "      <td>117472.48</td>\n",
       "      <td>2017</td>\n",
       "      <td>33.315773</td>\n",
       "    </tr>\n",
       "    <tr>\n",
       "      <th>3611</th>\n",
       "      <td>Marshall Islands</td>\n",
       "      <td>120909.02</td>\n",
       "      <td>2017</td>\n",
       "      <td>38.104271</td>\n",
       "    </tr>\n",
       "    <tr>\n",
       "      <th>5823</th>\n",
       "      <td>Tonga</td>\n",
       "      <td>142499.92</td>\n",
       "      <td>2017</td>\n",
       "      <td>24.602742</td>\n",
       "    </tr>\n",
       "    <tr>\n",
       "      <th>1651</th>\n",
       "      <td>Dominica</td>\n",
       "      <td>144248.05</td>\n",
       "      <td>2017</td>\n",
       "      <td>30.837473</td>\n",
       "    </tr>\n",
       "    <tr>\n",
       "      <th>3723</th>\n",
       "      <td>Micronesia (country)</td>\n",
       "      <td>177045.35</td>\n",
       "      <td>2017</td>\n",
       "      <td>32.305456</td>\n",
       "    </tr>\n",
       "    <tr>\n",
       "      <th>6215</th>\n",
       "      <td>Vanuatu</td>\n",
       "      <td>181363.53</td>\n",
       "      <td>2017</td>\n",
       "      <td>18.803947</td>\n",
       "    </tr>\n",
       "    <tr>\n",
       "      <th>1343</th>\n",
       "      <td>Comoros</td>\n",
       "      <td>189481.66</td>\n",
       "      <td>2017</td>\n",
       "      <td>16.158609</td>\n",
       "    </tr>\n",
       "    <tr>\n",
       "      <th>4787</th>\n",
       "      <td>Saint Vincent and the Grenadines</td>\n",
       "      <td>222219.96</td>\n",
       "      <td>2017</td>\n",
       "      <td>38.212715</td>\n",
       "    </tr>\n",
       "    <tr>\n",
       "      <th>4815</th>\n",
       "      <td>Samoa</td>\n",
       "      <td>233181.68</td>\n",
       "      <td>2017</td>\n",
       "      <td>16.247599</td>\n",
       "    </tr>\n",
       "  </tbody>\n",
       "</table>\n",
       "</div>"
      ],
      "text/plain": [
       "                               Country  Annual CO₂ emissions (tonnes)  Year  \\\n",
       "3023                          Kiribati                       73409.05  2017   \n",
       "4843             Sao Tome and Principe                      117472.48  2017   \n",
       "3611                  Marshall Islands                      120909.02  2017   \n",
       "5823                             Tonga                      142499.92  2017   \n",
       "1651                          Dominica                      144248.05  2017   \n",
       "3723              Micronesia (country)                      177045.35  2017   \n",
       "6215                           Vanuatu                      181363.53  2017   \n",
       "1343                           Comoros                      189481.66  2017   \n",
       "4787  Saint Vincent and the Grenadines                      222219.96  2017   \n",
       "4815                             Samoa                      233181.68  2017   \n",
       "\n",
       "      Outdoor particulate matter (deaths per 100,000)  \n",
       "3023                                        15.174841  \n",
       "4843                                        33.315773  \n",
       "3611                                        38.104271  \n",
       "5823                                        24.602742  \n",
       "1651                                        30.837473  \n",
       "3723                                        32.305456  \n",
       "6215                                        18.803947  \n",
       "1343                                        16.158609  \n",
       "4787                                        38.212715  \n",
       "4815                                        16.247599  "
      ]
     },
     "execution_count": 41,
     "metadata": {},
     "output_type": "execute_result"
    }
   ],
   "source": [
    "bottom_df = top_bottom_df.sort_values(by='Annual CO₂ emissions (tonnes)', ascending=True)\n",
    "bottom_df = bottom_df.iloc[:10]\n",
    "bottom_df"
   ]
  },
  {
   "cell_type": "code",
   "execution_count": 37,
   "metadata": {},
   "outputs": [
    {
     "data": {
      "image/png": "[encoded data removed]",
      "text/plain": [
       "<Figure size 432x288 with 1 Axes>"
      ]
     },
     "metadata": {
      "needs_background": "light"
     },
     "output_type": "display_data"
    }
   ],
   "source": [
    "plt.bar(top_df['Country'],top_df['Annual CO₂ emissions (tonnes)'])\n",
    "plt.xticks(rotation=90)\n",
    "plt.show()"
   ]
  },
  {
   "cell_type": "code",
   "execution_count": 42,
   "metadata": {},
   "outputs": [
    {
     "data": {
      "image/png": "[encoded data removed]",
      "text/plain": [
       "<Figure size 432x288 with 1 Axes>"
      ]
     },
     "metadata": {
      "needs_background": "light"
     },
     "output_type": "display_data"
    }
   ],
   "source": [
    "plt.bar(bottom_df['Country'],bottom_df['Annual CO₂ emissions (tonnes)'])\n",
    "plt.xticks(rotation=90)\n",
    "plt.show()"
   ]
  },
  {
   "cell_type": "code",
   "execution_count": 58,
   "metadata": {},
   "outputs": [
    {
     "name": "stdout",
     "output_type": "stream",
     "text": [
      "The correlation between both factors is 0.19\n",
      "The linear regression equation is y = 0.0x + 30.55\n"
     ]
    },
    {
     "data": {
      "image/png": "[encoded data removed]",
      "text/plain": [
       "<Figure size 432x288 with 1 Axes>"
      ]
     },
     "metadata": {
      "needs_background": "light"
     },
     "output_type": "display_data"
    }
   ],
   "source": [
    "x_axis2 = top_df['Annual CO₂ emissions (tonnes)']\n",
    "y_axis2 = top_df['Outdoor particulate matter (deaths per 100,000)']\n",
    "correlation = st.pearsonr(x_axis2,y_axis2)\n",
    "(slope, intercept, rvalue, pvalue, stderr) = st.linregress(x_axis2, y_axis2)\n",
    "regress_values = x_axis2 * slope + intercept\n",
    "line_eq = \"y = \" + str(round(slope,2)) + \"x + \" + str(round(intercept,2))\n",
    "plt.scatter(x_axis2,y_axis2)\n",
    "plt.plot(x_axis2,regress_values,\"r-\")\n",
    "plt.annotate(line_eq,(.1,20),fontsize=15,color=\"red\")\n",
    "plt.xlabel('Annual CO2 Emmissions 2017')\n",
    "plt.ylabel('Air Pollution Deaths 2017')\n",
    "print(f\"The correlation between both factors is {round(correlation[0],2)}\")\n",
    "print(f'The linear regression equation is {line_eq}')\n",
    "plt.show()"
   ]
  },
  {
   "cell_type": "code",
   "execution_count": 45,
   "metadata": {},
   "outputs": [
    {
     "name": "stdout",
     "output_type": "stream",
     "text": [
      "The correlation between both factors is -0.05\n",
      "The linear regression equation is y = -0.0x + 27.74\n"
     ]
    },
    {
     "data": {
      "image/png": "[encoded data removed]",
      "text/plain": [
       "<Figure size 432x288 with 1 Axes>"
      ]
     },
     "metadata": {
      "needs_background": "light"
     },
     "output_type": "display_data"
    }
   ],
   "source": [
    "x_axis2 = bottom_df['Annual CO₂ emissions (tonnes)']\n",
    "y_axis2 = bottom_df['Outdoor particulate matter (deaths per 100,000)']\n",
    "correlation = st.pearsonr(x_axis2,y_axis2)\n",
    "(slope, intercept, rvalue, pvalue, stderr) = st.linregress(x_axis2, y_axis2)\n",
    "regress_values = x_axis2 * slope + intercept\n",
    "line_eq = \"y = \" + str(round(slope,2)) + \"x + \" + str(round(intercept,2))\n",
    "plt.scatter(x_axis2,y_axis2)\n",
    "plt.plot(x_axis2,regress_values,\"r-\")\n",
    "plt.annotate(line_eq,(34,24),fontsize=15,color=\"red\")\n",
    "plt.xlabel('Annual CO2 Emmissions 2017')\n",
    "plt.ylabel('Air Pollution Deaths 2017')\n",
    "print(f\"The correlation between both factors is {round(correlation[0],2)}\")\n",
    "print(f'The linear regression equation is {line_eq}')\n",
    "plt.show()"
   ]
  },
  {
   "cell_type": "code",
   "execution_count": 52,
   "metadata": {},
   "outputs": [],
   "source": [
    "\n"
   ]
  },
  {
   "cell_type": "code",
   "execution_count": 48,
   "metadata": {},
   "outputs": [
    {
     "data": {
      "image/png": "[encoded data removed]",
      "text/plain": [
       "<Figure size 432x288 with 1 Axes>"
      ]
     },
     "metadata": {
      "needs_background": "light"
     },
     "output_type": "display_data"
    }
   ],
   "source": [
    "x_axis = combined_df_china['Year']\n",
    "y_axis = combined_df_china['Annual CO₂ emissions (tonnes )']\n",
    "plt.plot(x_axis,y_axis)\n",
    "plt.xlabel('Year')\n",
    "plt.ylabel('Emissions')\n",
    "plt.xlim(x_axis.min(),x_axis.max())\n",
    "plt.ylim(y_axis.min(),y_axis.max())\n",
    "plt.show()"
   ]
  },
  {
   "cell_type": "code",
   "execution_count": 59,
   "metadata": {},
   "outputs": [
    {
     "data": {
      "image/png": "[encoded data removed]",
      "text/plain": [
       "<Figure size 432x288 with 1 Axes>"
      ]
     },
     "metadata": {
      "needs_background": "light"
     },
     "output_type": "display_data"
    }
   ],
   "source": [
    "combined_df_us = combined_df.loc[combined_df['Entity'] == 'United States']\n",
    "x_axis = combined_df_us['Year']\n",
    "y_axis = combined_df_us['Annual CO₂ emissions (tonnes )']\n",
    "plt.plot(x_axis,y_axis)\n",
    "plt.xlabel('Year')\n",
    "plt.ylabel('Emissions')\n",
    "plt.xlim(x_axis.min(),x_axis.max())\n",
    "plt.ylim(y_axis.min(),y_axis.max())\n",
    "plt.show()"
   ]
  },
  {
   "cell_type": "code",
   "execution_count": 60,
   "metadata": {},
   "outputs": [
    {
     "data": {
      "image/png": "[encoded data removed]",
      "text/plain": [
       "<Figure size 432x288 with 1 Axes>"
      ]
     },
     "metadata": {
      "needs_background": "light"
     },
     "output_type": "display_data"
    }
   ],
   "source": [
    "combined_df_india = combined_df.loc[combined_df['Entity'] == 'India']\n",
    "x_axis = combined_df_india['Year']\n",
    "y_axis = combined_df_india['Annual CO₂ emissions (tonnes )']\n",
    "plt.plot(x_axis,y_axis)\n",
    "plt.xlabel('Year')\n",
    "plt.ylabel('Emissions')\n",
    "plt.xlim(x_axis.min(),x_axis.max())\n",
    "plt.ylim(y_axis.min(),y_axis.max())\n",
    "plt.show()"
   ]
  },
  {
   "cell_type": "code",
   "execution_count": 61,
   "metadata": {},
   "outputs": [
    {
     "data": {
      "image/png": "[encoded data removed]",
      "text/plain": [
       "<Figure size 432x288 with 1 Axes>"
      ]
     },
     "metadata": {
      "needs_background": "light"
     },
     "output_type": "display_data"
    }
   ],
   "source": [
    "combined_df_germany = combined_df.loc[combined_df['Entity'] == 'Germany']\n",
    "x_axis = combined_df_germany['Year']\n",
    "y_axis = combined_df_germany['Annual CO₂ emissions (tonnes )']\n",
    "plt.plot(x_axis,y_axis)\n",
    "plt.xlabel('Year')\n",
    "plt.ylabel('Emissions')\n",
    "plt.xlim(x_axis.min(),x_axis.max())\n",
    "plt.ylim(y_axis.min(),y_axis.max())\n",
    "plt.show()"
   ]
  },
  {
   "cell_type": "code",
   "execution_count": 62,
   "metadata": {},
   "outputs": [
    {
     "data": {
      "image/png": "[encoded data removed]",
      "text/plain": [
       "<Figure size 432x288 with 1 Axes>"
      ]
     },
     "metadata": {
      "needs_background": "light"
     },
     "output_type": "display_data"
    }
   ],
   "source": [
    "combined_df_russia = combined_df.loc[combined_df['Entity'] == 'Russia']\n",
    "x_axis = combined_df_russia['Year']\n",
    "y_axis = combined_df_russia['Annual CO₂ emissions (tonnes )']\n",
    "plt.plot(x_axis,y_axis)\n",
    "plt.xlabel('Year')\n",
    "plt.ylabel('Emissions')\n",
    "plt.xlim(x_axis.min(),x_axis.max())\n",
    "plt.ylim(y_axis.min(),y_axis.max())\n",
    "plt.show()"
   ]
  },
  {
   "cell_type": "code",
   "execution_count": 63,
   "metadata": {},
   "outputs": [
    {
     "data": {
      "image/png": "[encoded data removed]",
      "text/plain": [
       "<Figure size 432x288 with 1 Axes>"
      ]
     },
     "metadata": {
      "needs_background": "light"
     },
     "output_type": "display_data"
    }
   ],
   "source": [
    "combined_df_japan = combined_df.loc[combined_df['Entity'] == 'Japan']\n",
    "x_axis = combined_df_japan['Year']\n",
    "y_axis = combined_df_japan['Annual CO₂ emissions (tonnes )']\n",
    "plt.plot(x_axis,y_axis)\n",
    "plt.xlabel('Year')\n",
    "plt.ylabel('Emissions')\n",
    "plt.xlim(x_axis.min(),x_axis.max())\n",
    "plt.ylim(y_axis.min(),y_axis.max())\n",
    "plt.show()"
   ]
  },
  {
   "cell_type": "code",
   "execution_count": 50,
   "metadata": {},
   "outputs": [
    {
     "data": {
      "image/png": "[encoded data removed]",
      "text/plain": [
       "<Figure size 432x288 with 1 Axes>"
      ]
     },
     "metadata": {
      "needs_background": "light"
     },
     "output_type": "display_data"
    }
   ],
   "source": [
    "combined_df_kiribati = combined_df.loc[combined_df['Entity'] == 'Kiribati']\n",
    "x_axis = combined_df_kiribati['Year']\n",
    "y_axis = combined_df_kiribati['Annual CO₂ emissions (tonnes )']\n",
    "plt.plot(x_axis,y_axis)\n",
    "plt.xlabel('Year')\n",
    "plt.ylabel('Emissions')\n",
    "plt.xlim(x_axis.min(),x_axis.max())\n",
    "plt.ylim(y_axis.min(),y_axis.max())\n",
    "plt.show()"
   ]
  },
  {
   "cell_type": "code",
   "execution_count": null,
   "metadata": {},
   "outputs": [],
   "source": []
  },
  {
   "cell_type": "code",
   "execution_count": null,
   "metadata": {},
   "outputs": [],
   "source": []
  },
  {
   "cell_type": "code",
   "execution_count": null,
   "metadata": {},
   "outputs": [],
   "source": []
  }
 ],
 "metadata": {
  "kernelspec": {
   "display_name": "Python 3",
   "language": "python",
   "name": "python3"
  },
  "language_info": {
   "codemirror_mode": {
    "name": "ipython",
    "version": 3
   },
   "file_extension": ".py",
   "mimetype": "text/x-python",
   "name": "python",
   "nbconvert_exporter": "python",
   "pygments_lexer": "ipython3",
   "version": "3.8.5"
  }
 },
 "nbformat": 4,
 "nbformat_minor": 4
}
