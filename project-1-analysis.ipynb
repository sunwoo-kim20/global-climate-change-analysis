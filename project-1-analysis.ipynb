{
 "cells": [
  {
   "cell_type": "code",
   "execution_count": 1,
   "metadata": {},
   "outputs": [],
   "source": [
    "# Dependencies and Setup\n",
    "import matplotlib.pyplot as plt\n",
    "import pandas as pd\n",
    "import numpy as np\n",
    "import requests\n",
    "import time\n",
    "import json\n",
    "import gmaps\n",
    "import os\n",
    "from scipy.stats import linregress\n",
    "\n",
    "\n",
    "# Import API key\n",
    "from config import weather_api_key\n",
    "from config import g_key"
   ]
  },
  {
   "cell_type": "code",
   "execution_count": 112,
   "metadata": {},
   "outputs": [],
   "source": [
    "# Define function to run linear regression.\n",
    "def lin_regress(independent, dependent): \n",
    "    \n",
    "    # Use scipy to calculate values for regression\n",
    "    mask = ~np.isnan(independent) & ~np.isnan(dependent)\n",
    "    (slope, intercept, rvalue, pvalue, stderr) = linregress(independent[mask], dependent[mask])\n",
    "    # Calculate the regression values\n",
    "    regress_vals = independent*slope + intercept\n",
    "\n",
    "    # Create string variable that holds the regression line's equation\n",
    "    line_eq = f\"y = {round(slope, 2)}x + {round(intercept, 2)}\"\n",
    "\n",
    "    # Plot scatter and regression line on top of scatter plot\n",
    "    plt.scatter(independent, dependent, edgecolors = \"black\")\n",
    "    plt.plot(independent, regress_vals, color = \"r\", label = line_eq)\n",
    "    plt.legend(loc = \"best\")\n",
    "    print(f\"The correlation coefficient is {round(rvalue, 2)}\")\n",
    "    print(f\"The r-squared value is {round(rvalue**2,2)}\")"
   ]
  },
  {
   "cell_type": "code",
   "execution_count": 3,
   "metadata": {},
   "outputs": [],
   "source": [
    "# Importing csv files and creating data frames\n",
    "\n",
    "# CO2 by Country\n",
    "co2_country_df = pd.read_csv(\"../project-1-data/co2_emission.csv\")\n",
    "\n",
    "# GDP by Country (GPD per capita PPP)\n",
    "gdp_country_df = pd.read_csv(\"../project-1-data/GDP-countries-1990-2018.csv\")\n",
    "\n"
   ]
  },
  {
   "cell_type": "code",
   "execution_count": 4,
   "metadata": {},
   "outputs": [],
   "source": [
    "# Checking column names and getting rid of any spaces for gdp dataframe\n",
    "gdp_country_df.head()\n",
    "gdp_country_df.columns\n",
    "\n",
    "gdp_country_df = gdp_country_df.rename(columns = {\"Country \" : \"Country\"})"
   ]
  },
  {
   "cell_type": "code",
   "execution_count": 5,
   "metadata": {},
   "outputs": [
    {
     "data": {
      "text/html": [
       "<div>\n",
       "<style scoped>\n",
       "    .dataframe tbody tr th:only-of-type {\n",
       "        vertical-align: middle;\n",
       "    }\n",
       "\n",
       "    .dataframe tbody tr th {\n",
       "        vertical-align: top;\n",
       "    }\n",
       "\n",
       "    .dataframe thead th {\n",
       "        text-align: right;\n",
       "    }\n",
       "</style>\n",
       "<table border=\"1\" class=\"dataframe\">\n",
       "  <thead>\n",
       "    <tr style=\"text-align: right;\">\n",
       "      <th></th>\n",
       "      <th>Country</th>\n",
       "      <th>gdp_2016</th>\n",
       "    </tr>\n",
       "  </thead>\n",
       "  <tbody>\n",
       "    <tr>\n",
       "      <th>0</th>\n",
       "      <td>Aruba</td>\n",
       "      <td>38390.271650</td>\n",
       "    </tr>\n",
       "    <tr>\n",
       "      <th>1</th>\n",
       "      <td>Afghanistan</td>\n",
       "      <td>1896.992520</td>\n",
       "    </tr>\n",
       "    <tr>\n",
       "      <th>2</th>\n",
       "      <td>Angola</td>\n",
       "      <td>6756.935074</td>\n",
       "    </tr>\n",
       "    <tr>\n",
       "      <th>3</th>\n",
       "      <td>Albania</td>\n",
       "      <td>11868.178970</td>\n",
       "    </tr>\n",
       "    <tr>\n",
       "      <th>4</th>\n",
       "      <td>Arab World</td>\n",
       "      <td>16935.383300</td>\n",
       "    </tr>\n",
       "  </tbody>\n",
       "</table>\n",
       "</div>"
      ],
      "text/plain": [
       "       Country      gdp_2016\n",
       "0        Aruba  38390.271650\n",
       "1  Afghanistan   1896.992520\n",
       "2       Angola   6756.935074\n",
       "3      Albania  11868.178970\n",
       "4   Arab World  16935.383300"
      ]
     },
     "execution_count": 5,
     "metadata": {},
     "output_type": "execute_result"
    }
   ],
   "source": [
    "# Taking a subset of original gdp data frame for only the year 2016 and\n",
    "gdp_country_2016_df = gdp_country_df[[\"Country\", \"2016\"]]\n",
    "\n",
    "# Renaming column\n",
    "gdp_country_2016_df = gdp_country_2016_df.rename(columns = {\"2016\" : \"gdp_2016\"})\n",
    "gdp_country_2016_df.head()"
   ]
  },
  {
   "cell_type": "code",
   "execution_count": 6,
   "metadata": {},
   "outputs": [
    {
     "data": {
      "text/plain": [
       "Index(['Entity', 'Code', 'Year', 'Annual CO₂ emissions (tonnes )'], dtype='object')"
      ]
     },
     "execution_count": 6,
     "metadata": {},
     "output_type": "execute_result"
    }
   ],
   "source": [
    "# Checking column names for co2 emissions dataframe\n",
    "co2_country_df.head()\n",
    "co2_country_df.columns"
   ]
  },
  {
   "cell_type": "code",
   "execution_count": 7,
   "metadata": {},
   "outputs": [
    {
     "data": {
      "text/plain": [
       "array(['Afghanistan', 'Africa', 'Albania', 'Algeria', 'Americas (other)',\n",
       "       'Andorra', 'Angola', 'Anguilla', 'Antarctic Fisheries',\n",
       "       'Antigua and Barbuda', 'Argentina', 'Armenia', 'Aruba',\n",
       "       'Asia and Pacific (other)', 'Australia', 'Austria', 'Azerbaijan',\n",
       "       'Bahamas', 'Bahrain', 'Bangladesh', 'Barbados', 'Belarus',\n",
       "       'Belgium', 'Belize', 'Benin', 'Bermuda', 'Bhutan', 'Bolivia',\n",
       "       'Bonaire Sint Eustatius and Saba', 'Bosnia and Herzegovina',\n",
       "       'Botswana', 'Brazil', 'British Virgin Islands', 'Brunei',\n",
       "       'Bulgaria', 'Burkina Faso', 'Burundi', 'Cambodia', 'Cameroon',\n",
       "       'Canada', 'Cape Verde', 'Cayman Islands',\n",
       "       'Central African Republic', 'Chad', 'Chile', 'China',\n",
       "       'Christmas Island', 'Colombia', 'Comoros', 'Republic of the Congo',\n",
       "       'Cook Islands', 'Costa Rica', \"Cote d'Ivoire\", 'Croatia', 'Cuba',\n",
       "       'Curacao', 'Cyprus', 'Czech Republic', 'Czechoslovakia',\n",
       "       'Democratic Republic of Republic of the Congo', 'Denmark',\n",
       "       'Djibouti', 'Dominica', 'Dominican Republic', 'EU-28', 'Ecuador',\n",
       "       'Egypt', 'El Salvador', 'Equatorial Guinea', 'Eritrea', 'Estonia',\n",
       "       'Ethiopia', 'Europe (other)', 'Faeroe Islands', 'Falkland Islands',\n",
       "       'Fiji', 'Finland', 'France', 'French Guiana', 'French Polynesia',\n",
       "       'Gabon', 'Gambia', 'Georgia', 'Germany', 'Ghana', 'Gibraltar',\n",
       "       'Greece', 'Greenland', 'Grenada', 'Guadeloupe', 'Guatemala',\n",
       "       'Guinea', 'Guinea-Bissau', 'Guyana', 'Haiti', 'Honduras',\n",
       "       'Hong Kong', 'Hungary', 'Iceland', 'India', 'Indonesia',\n",
       "       'International transport', 'Iran', 'Iraq', 'Ireland', 'Israel',\n",
       "       'Italy', 'Jamaica', 'Japan', 'Jordan', 'Kazakhstan', 'Kenya',\n",
       "       'Kiribati', 'Kuwait', 'Kyrgysztan', 'Kyrgyzstan', 'Laos', 'Latvia',\n",
       "       'Lebanon', 'Lesotho', 'Liberia', 'Libya', 'Liechtenstein',\n",
       "       'Lithuania', 'Luxembourg', 'Macao', 'Macedonia', 'Madagascar',\n",
       "       'Malawi', 'Malaysia', 'Maldives', 'Mali', 'Malta',\n",
       "       'Marshall Islands', 'Martinique', 'Mauritania', 'Mauritius',\n",
       "       'Mexico', 'Micronesia (country)', 'Middle East', 'Moldova',\n",
       "       'Mongolia', 'Montenegro', 'Montserrat', 'Morocco', 'Mozambique',\n",
       "       'Myanmar', 'Namibia', 'Nauru', 'Nepal', 'Netherlands',\n",
       "       'New Caledonia', 'New Zealand', 'Nicaragua', 'Niger', 'Nigeria',\n",
       "       'Niue', 'North Korea', 'Norway', 'Oman', 'Pakistan', 'Palau',\n",
       "       'Palestine', 'Panama', 'Papua New Guinea', 'Paraguay', 'Peru',\n",
       "       'Philippines', 'Poland', 'Portugal', 'Qatar', 'Reunion', 'Romania',\n",
       "       'Russia', 'Rwanda', 'Saint Helena', 'Saint Kitts and Nevis',\n",
       "       'Saint Lucia', 'Saint Pierre and Miquelon',\n",
       "       'Saint Vincent and the Grenadines', 'Samoa',\n",
       "       'Sao Tome and Principe', 'Saudi Arabia', 'Senegal', 'Serbia',\n",
       "       'Seychelles', 'Sierra Leone', 'Singapore',\n",
       "       'Sint Maarten (Dutch part)', 'Slovakia', 'Slovenia',\n",
       "       'Solomon Islands', 'Somalia', 'South Africa', 'South Korea',\n",
       "       'South Sudan', 'Spain', 'Sri Lanka', 'Statistical differences',\n",
       "       'Sudan', 'Suriname', 'Swaziland', 'Sweden', 'Switzerland', 'Syria',\n",
       "       'Taiwan', 'Tajikistan', 'Tanzania', 'Thailand', 'Timor', 'Togo',\n",
       "       'Tonga', 'Trinidad and Tobago', 'Tunisia', 'Turkey',\n",
       "       'Turkmenistan', 'Turks and Caicos Islands', 'Tuvalu', 'Uganda',\n",
       "       'Ukraine', 'United Arab Emirates', 'United Kingdom',\n",
       "       'United States', 'Uruguay', 'Uzbekistan', 'Vanuatu', 'Venezuela',\n",
       "       'Vietnam', 'Wallis and Futuna Islands', 'World', 'Yemen', 'Zambia',\n",
       "       'Zimbabwe'], dtype=object)"
      ]
     },
     "execution_count": 7,
     "metadata": {},
     "output_type": "execute_result"
    }
   ],
   "source": [
    "# Checking for strange observations \n",
    "co2_country_df.Entity.unique()"
   ]
  },
  {
   "cell_type": "code",
   "execution_count": 8,
   "metadata": {},
   "outputs": [],
   "source": [
    "# Removing any strange observations found\n",
    "\n",
    "co2_country_df = co2_country_df[(co2_country_df.Entity != 'Africa') &\n",
    "                                (co2_country_df.Entity != 'Americas (other)') &\n",
    "                                (co2_country_df.Entity != 'Antarctic Fisheries') &\n",
    "                                (co2_country_df.Entity != 'Asia and Pacific (other)') &\n",
    "                                (co2_country_df.Entity != 'EU-28') &\n",
    "                                (co2_country_df.Entity != 'Europe (other)') &\n",
    "                                (co2_country_df.Entity != 'International transport') &\n",
    "                                (co2_country_df.Entity != 'Statistical differences') &\n",
    "                                (co2_country_df.Entity != 'World')]\n"
   ]
  },
  {
   "cell_type": "code",
   "execution_count": 9,
   "metadata": {},
   "outputs": [
    {
     "data": {
      "text/plain": [
       "array(['Afghanistan', 'Albania', 'Algeria', 'Andorra', 'Angola',\n",
       "       'Anguilla', 'Antigua and Barbuda', 'Argentina', 'Armenia', 'Aruba',\n",
       "       'Australia', 'Austria', 'Azerbaijan', 'Bahamas', 'Bahrain',\n",
       "       'Bangladesh', 'Barbados', 'Belarus', 'Belgium', 'Belize', 'Benin',\n",
       "       'Bermuda', 'Bhutan', 'Bolivia', 'Bonaire Sint Eustatius and Saba',\n",
       "       'Bosnia and Herzegovina', 'Botswana', 'Brazil',\n",
       "       'British Virgin Islands', 'Brunei', 'Bulgaria', 'Burkina Faso',\n",
       "       'Burundi', 'Cambodia', 'Cameroon', 'Canada', 'Cape Verde',\n",
       "       'Cayman Islands', 'Central African Republic', 'Chad', 'Chile',\n",
       "       'China', 'Christmas Island', 'Colombia', 'Comoros',\n",
       "       'Republic of the Congo', 'Cook Islands', 'Costa Rica',\n",
       "       \"Cote d'Ivoire\", 'Croatia', 'Cuba', 'Curacao', 'Cyprus',\n",
       "       'Czech Republic', 'Czechoslovakia',\n",
       "       'Democratic Republic of Republic of the Congo', 'Denmark',\n",
       "       'Djibouti', 'Dominica', 'Dominican Republic', 'Ecuador', 'Egypt',\n",
       "       'El Salvador', 'Equatorial Guinea', 'Eritrea', 'Estonia',\n",
       "       'Ethiopia', 'Faeroe Islands', 'Falkland Islands', 'Fiji',\n",
       "       'Finland', 'France', 'French Guiana', 'French Polynesia', 'Gabon',\n",
       "       'Gambia', 'Georgia', 'Germany', 'Ghana', 'Gibraltar', 'Greece',\n",
       "       'Greenland', 'Grenada', 'Guadeloupe', 'Guatemala', 'Guinea',\n",
       "       'Guinea-Bissau', 'Guyana', 'Haiti', 'Honduras', 'Hong Kong',\n",
       "       'Hungary', 'Iceland', 'India', 'Indonesia', 'Iran', 'Iraq',\n",
       "       'Ireland', 'Israel', 'Italy', 'Jamaica', 'Japan', 'Jordan',\n",
       "       'Kazakhstan', 'Kenya', 'Kiribati', 'Kuwait', 'Kyrgysztan',\n",
       "       'Kyrgyzstan', 'Laos', 'Latvia', 'Lebanon', 'Lesotho', 'Liberia',\n",
       "       'Libya', 'Liechtenstein', 'Lithuania', 'Luxembourg', 'Macao',\n",
       "       'Macedonia', 'Madagascar', 'Malawi', 'Malaysia', 'Maldives',\n",
       "       'Mali', 'Malta', 'Marshall Islands', 'Martinique', 'Mauritania',\n",
       "       'Mauritius', 'Mexico', 'Micronesia (country)', 'Middle East',\n",
       "       'Moldova', 'Mongolia', 'Montenegro', 'Montserrat', 'Morocco',\n",
       "       'Mozambique', 'Myanmar', 'Namibia', 'Nauru', 'Nepal',\n",
       "       'Netherlands', 'New Caledonia', 'New Zealand', 'Nicaragua',\n",
       "       'Niger', 'Nigeria', 'Niue', 'North Korea', 'Norway', 'Oman',\n",
       "       'Pakistan', 'Palau', 'Palestine', 'Panama', 'Papua New Guinea',\n",
       "       'Paraguay', 'Peru', 'Philippines', 'Poland', 'Portugal', 'Qatar',\n",
       "       'Reunion', 'Romania', 'Russia', 'Rwanda', 'Saint Helena',\n",
       "       'Saint Kitts and Nevis', 'Saint Lucia',\n",
       "       'Saint Pierre and Miquelon', 'Saint Vincent and the Grenadines',\n",
       "       'Samoa', 'Sao Tome and Principe', 'Saudi Arabia', 'Senegal',\n",
       "       'Serbia', 'Seychelles', 'Sierra Leone', 'Singapore',\n",
       "       'Sint Maarten (Dutch part)', 'Slovakia', 'Slovenia',\n",
       "       'Solomon Islands', 'Somalia', 'South Africa', 'South Korea',\n",
       "       'South Sudan', 'Spain', 'Sri Lanka', 'Sudan', 'Suriname',\n",
       "       'Swaziland', 'Sweden', 'Switzerland', 'Syria', 'Taiwan',\n",
       "       'Tajikistan', 'Tanzania', 'Thailand', 'Timor', 'Togo', 'Tonga',\n",
       "       'Trinidad and Tobago', 'Tunisia', 'Turkey', 'Turkmenistan',\n",
       "       'Turks and Caicos Islands', 'Tuvalu', 'Uganda', 'Ukraine',\n",
       "       'United Arab Emirates', 'United Kingdom', 'United States',\n",
       "       'Uruguay', 'Uzbekistan', 'Vanuatu', 'Venezuela', 'Vietnam',\n",
       "       'Wallis and Futuna Islands', 'Yemen', 'Zambia', 'Zimbabwe'],\n",
       "      dtype=object)"
      ]
     },
     "execution_count": 9,
     "metadata": {},
     "output_type": "execute_result"
    }
   ],
   "source": [
    "# Double checking that observations were removed\n",
    "co2_country_df.Entity.unique()"
   ]
  },
  {
   "cell_type": "code",
   "execution_count": 10,
   "metadata": {},
   "outputs": [
    {
     "data": {
      "text/html": [
       "<div>\n",
       "<style scoped>\n",
       "    .dataframe tbody tr th:only-of-type {\n",
       "        vertical-align: middle;\n",
       "    }\n",
       "\n",
       "    .dataframe tbody tr th {\n",
       "        vertical-align: top;\n",
       "    }\n",
       "\n",
       "    .dataframe thead th {\n",
       "        text-align: right;\n",
       "    }\n",
       "</style>\n",
       "<table border=\"1\" class=\"dataframe\">\n",
       "  <thead>\n",
       "    <tr style=\"text-align: right;\">\n",
       "      <th></th>\n",
       "      <th>Country</th>\n",
       "      <th>Code</th>\n",
       "      <th>Year</th>\n",
       "      <th>annual_co2_tonnes</th>\n",
       "    </tr>\n",
       "  </thead>\n",
       "  <tbody>\n",
       "    <tr>\n",
       "      <th>42</th>\n",
       "      <td>Afghanistan</td>\n",
       "      <td>AFG</td>\n",
       "      <td>1991</td>\n",
       "      <td>2426486.16</td>\n",
       "    </tr>\n",
       "    <tr>\n",
       "      <th>43</th>\n",
       "      <td>Afghanistan</td>\n",
       "      <td>AFG</td>\n",
       "      <td>1992</td>\n",
       "      <td>1381521.84</td>\n",
       "    </tr>\n",
       "    <tr>\n",
       "      <th>44</th>\n",
       "      <td>Afghanistan</td>\n",
       "      <td>AFG</td>\n",
       "      <td>1993</td>\n",
       "      <td>1333837.11</td>\n",
       "    </tr>\n",
       "    <tr>\n",
       "      <th>45</th>\n",
       "      <td>Afghanistan</td>\n",
       "      <td>AFG</td>\n",
       "      <td>1994</td>\n",
       "      <td>1282488.38</td>\n",
       "    </tr>\n",
       "    <tr>\n",
       "      <th>46</th>\n",
       "      <td>Afghanistan</td>\n",
       "      <td>AFG</td>\n",
       "      <td>1995</td>\n",
       "      <td>1231139.65</td>\n",
       "    </tr>\n",
       "  </tbody>\n",
       "</table>\n",
       "</div>"
      ],
      "text/plain": [
       "        Country Code  Year  annual_co2_tonnes\n",
       "42  Afghanistan  AFG  1991         2426486.16\n",
       "43  Afghanistan  AFG  1992         1381521.84\n",
       "44  Afghanistan  AFG  1993         1333837.11\n",
       "45  Afghanistan  AFG  1994         1282488.38\n",
       "46  Afghanistan  AFG  1995         1231139.65"
      ]
     },
     "execution_count": 10,
     "metadata": {},
     "output_type": "execute_result"
    }
   ],
   "source": [
    "# Only keeping observation years 1991 and onwards\n",
    "co2_country_df = co2_country_df.loc[(co2_country_df.Year >= 1991), :]\n",
    "co2_country_df = co2_country_df.rename(columns = {\"Entity\" : \"Country\", \"Annual CO₂ emissions (tonnes )\" : \"annual_co2_tonnes\"})\n",
    "co2_country_df.head()"
   ]
  },
  {
   "cell_type": "code",
   "execution_count": 11,
   "metadata": {},
   "outputs": [],
   "source": [
    "co2_country_2016_df = co2_country_df.loc[(co2_country_df.Year == 2016), :]\n"
   ]
  },
  {
   "cell_type": "code",
   "execution_count": 12,
   "metadata": {},
   "outputs": [
    {
     "data": {
      "text/html": [
       "<div>\n",
       "<style scoped>\n",
       "    .dataframe tbody tr th:only-of-type {\n",
       "        vertical-align: middle;\n",
       "    }\n",
       "\n",
       "    .dataframe tbody tr th {\n",
       "        vertical-align: top;\n",
       "    }\n",
       "\n",
       "    .dataframe thead th {\n",
       "        text-align: right;\n",
       "    }\n",
       "</style>\n",
       "<table border=\"1\" class=\"dataframe\">\n",
       "  <thead>\n",
       "    <tr style=\"text-align: right;\">\n",
       "      <th></th>\n",
       "      <th>Country</th>\n",
       "      <th>Code</th>\n",
       "      <th>Year</th>\n",
       "      <th>annual_co2_tonnes</th>\n",
       "    </tr>\n",
       "  </thead>\n",
       "  <tbody>\n",
       "    <tr>\n",
       "      <th>67</th>\n",
       "      <td>Afghanistan</td>\n",
       "      <td>AFG</td>\n",
       "      <td>2016</td>\n",
       "      <td>1.225791e+07</td>\n",
       "    </tr>\n",
       "    <tr>\n",
       "      <th>419</th>\n",
       "      <td>Albania</td>\n",
       "      <td>ALB</td>\n",
       "      <td>2016</td>\n",
       "      <td>6.272858e+06</td>\n",
       "    </tr>\n",
       "    <tr>\n",
       "      <th>527</th>\n",
       "      <td>Algeria</td>\n",
       "      <td>DZA</td>\n",
       "      <td>2016</td>\n",
       "      <td>1.503780e+08</td>\n",
       "    </tr>\n",
       "    <tr>\n",
       "      <th>822</th>\n",
       "      <td>Andorra</td>\n",
       "      <td>AND</td>\n",
       "      <td>2016</td>\n",
       "      <td>5.115068e+05</td>\n",
       "    </tr>\n",
       "    <tr>\n",
       "      <th>890</th>\n",
       "      <td>Angola</td>\n",
       "      <td>AGO</td>\n",
       "      <td>2016</td>\n",
       "      <td>3.535100e+07</td>\n",
       "    </tr>\n",
       "    <tr>\n",
       "      <th>918</th>\n",
       "      <td>Anguilla</td>\n",
       "      <td>AIA</td>\n",
       "      <td>2016</td>\n",
       "      <td>1.520722e+05</td>\n",
       "    </tr>\n",
       "    <tr>\n",
       "      <th>1000</th>\n",
       "      <td>Antigua and Barbuda</td>\n",
       "      <td>ATG</td>\n",
       "      <td>2016</td>\n",
       "      <td>5.653968e+05</td>\n",
       "    </tr>\n",
       "    <tr>\n",
       "      <th>1131</th>\n",
       "      <td>Argentina</td>\n",
       "      <td>ARG</td>\n",
       "      <td>2016</td>\n",
       "      <td>2.070641e+08</td>\n",
       "    </tr>\n",
       "    <tr>\n",
       "      <th>1190</th>\n",
       "      <td>Armenia</td>\n",
       "      <td>ARM</td>\n",
       "      <td>2016</td>\n",
       "      <td>5.960813e+06</td>\n",
       "    </tr>\n",
       "    <tr>\n",
       "      <th>1249</th>\n",
       "      <td>Aruba</td>\n",
       "      <td>ABW</td>\n",
       "      <td>2016</td>\n",
       "      <td>9.280306e+05</td>\n",
       "    </tr>\n",
       "  </tbody>\n",
       "</table>\n",
       "</div>"
      ],
      "text/plain": [
       "                  Country Code  Year  annual_co2_tonnes\n",
       "67            Afghanistan  AFG  2016       1.225791e+07\n",
       "419               Albania  ALB  2016       6.272858e+06\n",
       "527               Algeria  DZA  2016       1.503780e+08\n",
       "822               Andorra  AND  2016       5.115068e+05\n",
       "890                Angola  AGO  2016       3.535100e+07\n",
       "918              Anguilla  AIA  2016       1.520722e+05\n",
       "1000  Antigua and Barbuda  ATG  2016       5.653968e+05\n",
       "1131            Argentina  ARG  2016       2.070641e+08\n",
       "1190              Armenia  ARM  2016       5.960813e+06\n",
       "1249                Aruba  ABW  2016       9.280306e+05"
      ]
     },
     "execution_count": 12,
     "metadata": {},
     "output_type": "execute_result"
    }
   ],
   "source": [
    "co2_country_2016_df.head(10)"
   ]
  },
  {
   "cell_type": "code",
   "execution_count": 114,
   "metadata": {},
   "outputs": [
    {
     "data": {
      "text/html": [
       "<div>\n",
       "<style scoped>\n",
       "    .dataframe tbody tr th:only-of-type {\n",
       "        vertical-align: middle;\n",
       "    }\n",
       "\n",
       "    .dataframe tbody tr th {\n",
       "        vertical-align: top;\n",
       "    }\n",
       "\n",
       "    .dataframe thead th {\n",
       "        text-align: right;\n",
       "    }\n",
       "</style>\n",
       "<table border=\"1\" class=\"dataframe\">\n",
       "  <thead>\n",
       "    <tr style=\"text-align: right;\">\n",
       "      <th></th>\n",
       "      <th>Country</th>\n",
       "      <th>Code</th>\n",
       "      <th>Year</th>\n",
       "      <th>annual_co2_tonnes</th>\n",
       "      <th>gdp_2016</th>\n",
       "    </tr>\n",
       "  </thead>\n",
       "  <tbody>\n",
       "    <tr>\n",
       "      <th>0</th>\n",
       "      <td>Afghanistan</td>\n",
       "      <td>AFG</td>\n",
       "      <td>2016</td>\n",
       "      <td>1.225791e+07</td>\n",
       "      <td>1896.992520</td>\n",
       "    </tr>\n",
       "    <tr>\n",
       "      <th>1</th>\n",
       "      <td>Albania</td>\n",
       "      <td>ALB</td>\n",
       "      <td>2016</td>\n",
       "      <td>6.272858e+06</td>\n",
       "      <td>11868.178970</td>\n",
       "    </tr>\n",
       "    <tr>\n",
       "      <th>2</th>\n",
       "      <td>Algeria</td>\n",
       "      <td>DZA</td>\n",
       "      <td>2016</td>\n",
       "      <td>1.503780e+08</td>\n",
       "      <td>15036.364150</td>\n",
       "    </tr>\n",
       "    <tr>\n",
       "      <th>3</th>\n",
       "      <td>Angola</td>\n",
       "      <td>AGO</td>\n",
       "      <td>2016</td>\n",
       "      <td>3.535100e+07</td>\n",
       "      <td>6756.935074</td>\n",
       "    </tr>\n",
       "    <tr>\n",
       "      <th>4</th>\n",
       "      <td>Antigua and Barbuda</td>\n",
       "      <td>ATG</td>\n",
       "      <td>2016</td>\n",
       "      <td>5.653968e+05</td>\n",
       "      <td>23670.302260</td>\n",
       "    </tr>\n",
       "    <tr>\n",
       "      <th>5</th>\n",
       "      <td>Argentina</td>\n",
       "      <td>ARG</td>\n",
       "      <td>2016</td>\n",
       "      <td>2.070641e+08</td>\n",
       "      <td>20130.408030</td>\n",
       "    </tr>\n",
       "    <tr>\n",
       "      <th>6</th>\n",
       "      <td>Armenia</td>\n",
       "      <td>ARM</td>\n",
       "      <td>2016</td>\n",
       "      <td>5.960813e+06</td>\n",
       "      <td>8808.572714</td>\n",
       "    </tr>\n",
       "    <tr>\n",
       "      <th>7</th>\n",
       "      <td>Aruba</td>\n",
       "      <td>ABW</td>\n",
       "      <td>2016</td>\n",
       "      <td>9.280306e+05</td>\n",
       "      <td>38390.271650</td>\n",
       "    </tr>\n",
       "    <tr>\n",
       "      <th>8</th>\n",
       "      <td>Australia</td>\n",
       "      <td>AUS</td>\n",
       "      <td>2016</td>\n",
       "      <td>4.133699e+08</td>\n",
       "      <td>47305.880020</td>\n",
       "    </tr>\n",
       "    <tr>\n",
       "      <th>9</th>\n",
       "      <td>Austria</td>\n",
       "      <td>AUT</td>\n",
       "      <td>2016</td>\n",
       "      <td>6.740208e+07</td>\n",
       "      <td>51809.513630</td>\n",
       "    </tr>\n",
       "  </tbody>\n",
       "</table>\n",
       "</div>"
      ],
      "text/plain": [
       "               Country Code  Year  annual_co2_tonnes      gdp_2016\n",
       "0          Afghanistan  AFG  2016       1.225791e+07   1896.992520\n",
       "1              Albania  ALB  2016       6.272858e+06  11868.178970\n",
       "2              Algeria  DZA  2016       1.503780e+08  15036.364150\n",
       "3               Angola  AGO  2016       3.535100e+07   6756.935074\n",
       "4  Antigua and Barbuda  ATG  2016       5.653968e+05  23670.302260\n",
       "5            Argentina  ARG  2016       2.070641e+08  20130.408030\n",
       "6              Armenia  ARM  2016       5.960813e+06   8808.572714\n",
       "7                Aruba  ABW  2016       9.280306e+05  38390.271650\n",
       "8            Australia  AUS  2016       4.133699e+08  47305.880020\n",
       "9              Austria  AUT  2016       6.740208e+07  51809.513630"
      ]
     },
     "execution_count": 114,
     "metadata": {},
     "output_type": "execute_result"
    }
   ],
   "source": [
    "co2_gdp_merge_df = co2_country_2016_df.merge(gdp_country_2016_df, how = 'inner', on = \"Country\")\n",
    "co2_gdp_merge_df.head(10)"
   ]
  },
  {
   "cell_type": "code",
   "execution_count": 115,
   "metadata": {},
   "outputs": [
    {
     "name": "stdout",
     "output_type": "stream",
     "text": [
      "The correlation coefficient is 0.09\n",
      "The r-squared value is 0.01\n"
     ]
    },
    {
     "data": {
      "image/png": "[encoded data removed]",
      "text/plain": [
       "<Figure size 432x288 with 1 Axes>"
      ]
     },
     "metadata": {
      "needs_background": "light"
     },
     "output_type": "display_data"
    }
   ],
   "source": [
    "lin_regress(co2_gdp_merge_df.gdp_2016, co2_gdp_merge_df.annual_co2_tonnes)\n",
    "\n",
    "plt.title(\"GDP vs. Carbon Emissions (2016)\")\n",
    "plt.xlabel(\"GDP per capita PPP\")\n",
    "plt.ylabel(\"Annual CO2 Emissions in Tonnes\")\n",
    "plt.grid(True)\n",
    "plt.show()"
   ]
  },
  {
   "cell_type": "code",
   "execution_count": 15,
   "metadata": {},
   "outputs": [
    {
     "name": "stdout",
     "output_type": "stream",
     "text": [
      "Afghanistan found, adding coordinates\n",
      "Albania found, adding coordinates\n",
      "Algeria found, adding coordinates\n",
      "Andorra found, adding coordinates\n",
      "Angola found, adding coordinates\n",
      "Anguilla found, adding coordinates\n",
      "Antigua and Barbuda found, adding coordinates\n",
      "Argentina found, adding coordinates\n",
      "Armenia found, adding coordinates\n",
      "Aruba found, adding coordinates\n",
      "Australia found, adding coordinates\n",
      "Austria found, adding coordinates\n",
      "Azerbaijan found, adding coordinates\n",
      "Bahamas found, adding coordinates\n",
      "Bahrain found, adding coordinates\n",
      "Bangladesh found, adding coordinates\n",
      "Barbados found, adding coordinates\n",
      "Belarus found, adding coordinates\n",
      "Belgium found, adding coordinates\n",
      "Belize found, adding coordinates\n",
      "Benin found, adding coordinates\n",
      "Bermuda found, adding coordinates\n",
      "Bhutan found, adding coordinates\n",
      "Bolivia found, adding coordinates\n",
      "Bonaire Sint Eustatius and Saba found, adding coordinates\n",
      "Bosnia and Herzegovina found, adding coordinates\n",
      "Botswana found, adding coordinates\n",
      "Brazil found, adding coordinates\n",
      "British Virgin Islands found, adding coordinates\n",
      "Brunei found, adding coordinates\n",
      "Bulgaria found, adding coordinates\n",
      "Burkina Faso found, adding coordinates\n",
      "Burundi found, adding coordinates\n",
      "Cambodia found, adding coordinates\n",
      "Cameroon found, adding coordinates\n",
      "Canada found, adding coordinates\n",
      "Cape Verde found, adding coordinates\n",
      "Central African Republic found, adding coordinates\n",
      "Chad found, adding coordinates\n",
      "Chile found, adding coordinates\n",
      "China found, adding coordinates\n",
      "Colombia found, adding coordinates\n",
      "Comoros found, adding coordinates\n",
      "Republic of the Congo found, adding coordinates\n",
      "Cook Islands found, adding coordinates\n",
      "Costa Rica found, adding coordinates\n",
      "Cote d'Ivoire found, adding coordinates\n",
      "Croatia found, adding coordinates\n",
      "Cuba found, adding coordinates\n",
      "Curacao found, adding coordinates\n",
      "Cyprus found, adding coordinates\n",
      "Czech Republic found, adding coordinates\n",
      "Democratic Republic of Republic of the Congo found, adding coordinates\n",
      "Denmark found, adding coordinates\n",
      "Djibouti found, adding coordinates\n",
      "Dominica found, adding coordinates\n",
      "Dominican Republic found, adding coordinates\n",
      "Ecuador found, adding coordinates\n",
      "Egypt found, adding coordinates\n",
      "El Salvador found, adding coordinates\n",
      "Equatorial Guinea found, adding coordinates\n",
      "Eritrea found, adding coordinates\n",
      "Estonia found, adding coordinates\n",
      "Ethiopia found, adding coordinates\n",
      "Faeroe Islands found, adding coordinates\n",
      "Fiji found, adding coordinates\n",
      "Finland found, adding coordinates\n",
      "France found, adding coordinates\n",
      "French Polynesia found, adding coordinates\n",
      "Gabon found, adding coordinates\n",
      "Gambia found, adding coordinates\n",
      "Georgia found, adding coordinates\n",
      "Germany found, adding coordinates\n",
      "Ghana found, adding coordinates\n",
      "Greece found, adding coordinates\n",
      "Greenland found, adding coordinates\n",
      "Grenada found, adding coordinates\n",
      "Guatemala found, adding coordinates\n",
      "Guinea found, adding coordinates\n",
      "Guinea-Bissau found, adding coordinates\n",
      "Guyana found, adding coordinates\n",
      "Haiti found, adding coordinates\n",
      "Honduras found, adding coordinates\n",
      "Hong Kong found, adding coordinates\n",
      "Hungary found, adding coordinates\n",
      "Iceland found, adding coordinates\n",
      "India found, adding coordinates\n",
      "Indonesia found, adding coordinates\n",
      "Iran found, adding coordinates\n",
      "Iraq found, adding coordinates\n",
      "Ireland found, adding coordinates\n",
      "Israel found, adding coordinates\n",
      "Italy found, adding coordinates\n",
      "Jamaica found, adding coordinates\n",
      "Japan found, adding coordinates\n",
      "Jordan found, adding coordinates\n",
      "Kazakhstan found, adding coordinates\n",
      "Kenya found, adding coordinates\n",
      "Kiribati found, adding coordinates\n",
      "Kuwait found, adding coordinates\n",
      "Kyrgyzstan found, adding coordinates\n",
      "Laos found, adding coordinates\n",
      "Latvia found, adding coordinates\n",
      "Lebanon found, adding coordinates\n",
      "Lesotho found, adding coordinates\n",
      "Liberia found, adding coordinates\n",
      "Libya found, adding coordinates\n",
      "Liechtenstein found, adding coordinates\n",
      "Lithuania found, adding coordinates\n",
      "Luxembourg found, adding coordinates\n",
      "Macao found, adding coordinates\n",
      "Macedonia found, adding coordinates\n",
      "Madagascar found, adding coordinates\n",
      "Malawi found, adding coordinates\n",
      "Malaysia found, adding coordinates\n",
      "Maldives found, adding coordinates\n",
      "Mali found, adding coordinates\n",
      "Malta found, adding coordinates\n",
      "Marshall Islands found, adding coordinates\n",
      "Mauritania found, adding coordinates\n",
      "Mauritius found, adding coordinates\n",
      "Mexico found, adding coordinates\n",
      "Micronesia (country) found, adding coordinates\n",
      "Middle East found, adding coordinates\n",
      "Moldova found, adding coordinates\n",
      "Mongolia found, adding coordinates\n",
      "Montenegro found, adding coordinates\n",
      "Montserrat found, adding coordinates\n",
      "Morocco found, adding coordinates\n",
      "Mozambique found, adding coordinates\n",
      "Myanmar found, adding coordinates\n",
      "Namibia found, adding coordinates\n",
      "Nauru found, adding coordinates\n",
      "Nepal found, adding coordinates\n",
      "Netherlands found, adding coordinates\n",
      "New Caledonia found, adding coordinates\n",
      "New Zealand found, adding coordinates\n",
      "Nicaragua found, adding coordinates\n",
      "Niger found, adding coordinates\n",
      "Nigeria found, adding coordinates\n",
      "Niue found, adding coordinates\n",
      "North Korea found, adding coordinates\n",
      "Norway found, adding coordinates\n",
      "Oman found, adding coordinates\n",
      "Pakistan found, adding coordinates\n",
      "Palau found, adding coordinates\n",
      "Palestine found, adding coordinates\n",
      "Panama found, adding coordinates\n",
      "Papua New Guinea found, adding coordinates\n",
      "Paraguay found, adding coordinates\n",
      "Peru found, adding coordinates\n",
      "Philippines found, adding coordinates\n",
      "Poland found, adding coordinates\n",
      "Portugal found, adding coordinates\n",
      "Qatar found, adding coordinates\n",
      "Romania found, adding coordinates\n",
      "Russia found, adding coordinates\n",
      "Rwanda found, adding coordinates\n",
      "Saint Helena found, adding coordinates\n",
      "Saint Kitts and Nevis found, adding coordinates\n",
      "Saint Lucia found, adding coordinates\n",
      "Saint Pierre and Miquelon found, adding coordinates\n",
      "Saint Vincent and the Grenadines found, adding coordinates\n",
      "Samoa found, adding coordinates\n",
      "Sao Tome and Principe found, adding coordinates\n",
      "Saudi Arabia found, adding coordinates\n",
      "Senegal found, adding coordinates\n",
      "Serbia found, adding coordinates\n",
      "Seychelles found, adding coordinates\n",
      "Sierra Leone found, adding coordinates\n",
      "Singapore found, adding coordinates\n",
      "Sint Maarten (Dutch part) found, adding coordinates\n",
      "Slovakia found, adding coordinates\n",
      "Slovenia found, adding coordinates\n",
      "Solomon Islands found, adding coordinates\n",
      "Somalia found, adding coordinates\n",
      "South Africa found, adding coordinates\n",
      "South Korea found, adding coordinates\n",
      "South Sudan found, adding coordinates\n",
      "Spain found, adding coordinates\n",
      "Sri Lanka found, adding coordinates\n",
      "Sudan found, adding coordinates\n",
      "Suriname found, adding coordinates\n",
      "Swaziland found, adding coordinates\n",
      "Sweden found, adding coordinates\n",
      "Switzerland found, adding coordinates\n",
      "Syria found, adding coordinates\n",
      "Taiwan found, adding coordinates\n",
      "Tajikistan found, adding coordinates\n",
      "Tanzania found, adding coordinates\n",
      "Thailand found, adding coordinates\n",
      "Timor found, adding coordinates\n",
      "Togo found, adding coordinates\n",
      "Tonga found, adding coordinates\n",
      "Trinidad and Tobago found, adding coordinates\n",
      "Tunisia found, adding coordinates\n",
      "Turkey found, adding coordinates\n",
      "Turkmenistan found, adding coordinates\n",
      "Turks and Caicos Islands found, adding coordinates\n",
      "Tuvalu found, adding coordinates\n",
      "Uganda found, adding coordinates\n",
      "Ukraine found, adding coordinates\n",
      "United Arab Emirates found, adding coordinates\n",
      "United Kingdom found, adding coordinates\n",
      "United States found, adding coordinates\n",
      "Uruguay found, adding coordinates\n",
      "Uzbekistan found, adding coordinates\n",
      "Vanuatu found, adding coordinates\n",
      "Venezuela found, adding coordinates\n",
      "Vietnam found, adding coordinates\n",
      "Wallis and Futuna Islands found, adding coordinates\n",
      "Yemen found, adding coordinates\n",
      "Zambia found, adding coordinates\n",
      "Zimbabwe found, adding coordinates\n"
     ]
    },
    {
     "data": {
      "text/html": [
       "<div>\n",
       "<style scoped>\n",
       "    .dataframe tbody tr th:only-of-type {\n",
       "        vertical-align: middle;\n",
       "    }\n",
       "\n",
       "    .dataframe tbody tr th {\n",
       "        vertical-align: top;\n",
       "    }\n",
       "\n",
       "    .dataframe thead th {\n",
       "        text-align: right;\n",
       "    }\n",
       "</style>\n",
       "<table border=\"1\" class=\"dataframe\">\n",
       "  <thead>\n",
       "    <tr style=\"text-align: right;\">\n",
       "      <th></th>\n",
       "      <th>Country</th>\n",
       "      <th>Code</th>\n",
       "      <th>Year</th>\n",
       "      <th>annual_co2_tonnes</th>\n",
       "      <th>gdp_2016</th>\n",
       "      <th>Lat</th>\n",
       "      <th>Lng</th>\n",
       "    </tr>\n",
       "  </thead>\n",
       "  <tbody>\n",
       "    <tr>\n",
       "      <th>0</th>\n",
       "      <td>Afghanistan</td>\n",
       "      <td>AFG</td>\n",
       "      <td>2016</td>\n",
       "      <td>1.225791e+07</td>\n",
       "      <td>1896.992520</td>\n",
       "      <td>33.9391</td>\n",
       "      <td>67.71</td>\n",
       "    </tr>\n",
       "    <tr>\n",
       "      <th>1</th>\n",
       "      <td>Albania</td>\n",
       "      <td>ALB</td>\n",
       "      <td>2016</td>\n",
       "      <td>6.272858e+06</td>\n",
       "      <td>11868.178970</td>\n",
       "      <td>41.1533</td>\n",
       "      <td>20.1683</td>\n",
       "    </tr>\n",
       "    <tr>\n",
       "      <th>2</th>\n",
       "      <td>Algeria</td>\n",
       "      <td>DZA</td>\n",
       "      <td>2016</td>\n",
       "      <td>1.503780e+08</td>\n",
       "      <td>15036.364150</td>\n",
       "      <td>28.0339</td>\n",
       "      <td>1.65963</td>\n",
       "    </tr>\n",
       "    <tr>\n",
       "      <th>3</th>\n",
       "      <td>Andorra</td>\n",
       "      <td>AND</td>\n",
       "      <td>2016</td>\n",
       "      <td>5.115068e+05</td>\n",
       "      <td>NaN</td>\n",
       "      <td>42.5063</td>\n",
       "      <td>1.5218</td>\n",
       "    </tr>\n",
       "    <tr>\n",
       "      <th>4</th>\n",
       "      <td>Angola</td>\n",
       "      <td>AGO</td>\n",
       "      <td>2016</td>\n",
       "      <td>3.535100e+07</td>\n",
       "      <td>6756.935074</td>\n",
       "      <td>-11.2027</td>\n",
       "      <td>17.8739</td>\n",
       "    </tr>\n",
       "  </tbody>\n",
       "</table>\n",
       "</div>"
      ],
      "text/plain": [
       "       Country Code  Year  annual_co2_tonnes      gdp_2016      Lat      Lng\n",
       "0  Afghanistan  AFG  2016       1.225791e+07   1896.992520  33.9391    67.71\n",
       "1      Albania  ALB  2016       6.272858e+06  11868.178970  41.1533  20.1683\n",
       "2      Algeria  DZA  2016       1.503780e+08  15036.364150  28.0339  1.65963\n",
       "3      Andorra  AND  2016       5.115068e+05           NaN  42.5063   1.5218\n",
       "4       Angola  AGO  2016       3.535100e+07   6756.935074 -11.2027  17.8739"
      ]
     },
     "execution_count": 15,
     "metadata": {},
     "output_type": "execute_result"
    }
   ],
   "source": [
    "# Creating empty columns\n",
    "co2_gdp_merge_df['Lat'] = \"\"\n",
    "co2_gdp_merge_df['Lng'] = \"\"\n",
    "\n",
    "# Geocode\n",
    "for index, row in co2_gdp_merge_df.iterrows():\n",
    "    \n",
    "    country = row.Country\n",
    "    \n",
    "    # Build the endpoint URL\n",
    "    target_url = f\"https://maps.googleapis.com/maps/api/geocode/json?address={country}&key={g_key}\"\n",
    "    try:\n",
    "        # Get json and extract latitude and longitude\n",
    "        geo_data = requests.get(target_url).json()\n",
    "        lat = geo_data[\"results\"][0][\"geometry\"][\"location\"][\"lat\"]\n",
    "        lng = geo_data[\"results\"][0][\"geometry\"][\"location\"][\"lng\"]\n",
    "\n",
    "        co2_gdp_merge_df.loc[index, 'Lat'] = lat\n",
    "        co2_gdp_merge_df.loc[index, 'Lng'] = lng\n",
    "        print(f\"{country} found, adding coordinates\")\n",
    "    except:\n",
    "        \n",
    "        print(\"Could not find country.\")\n",
    "\n",
    "    \n",
    "    #print(json.dumps(geo_data, indent = 4, sort_keys = True))\n",
    "co2_gdp_merge_df.head()"
   ]
  },
  {
   "cell_type": "code",
   "execution_count": null,
   "metadata": {},
   "outputs": [],
   "source": [
    "co2_gdp_merge_df.head(50)"
   ]
  },
  {
   "cell_type": "code",
   "execution_count": 16,
   "metadata": {},
   "outputs": [],
   "source": [
    "# Store lat and long in locations, gdps in gdps, and carbon emissions in carbons\n",
    "locations = co2_gdp_merge_df[[\"Lat\", \"Lng\"]]\n",
    "gdps = co2_gdp_merge_df.gdp_2016\n",
    "carbons = co2_gdp_merge_df.annual_co2_tonnes"
   ]
  },
  {
   "cell_type": "code",
   "execution_count": 17,
   "metadata": {},
   "outputs": [
    {
     "data": {
      "application/vnd.jupyter.widget-view+json": {
       "model_id": "3da8995a60b0484fb2999410395c923a",
       "version_major": 2,
       "version_minor": 0
      },
      "text/plain": [
       "Figure(layout=FigureLayout(height='420px'))"
      ]
     },
     "metadata": {},
     "output_type": "display_data"
    }
   ],
   "source": [
    "# Configure gmaps\n",
    "gmaps.configure(api_key=g_key)\n",
    "\n",
    "# Create heatmap\n",
    "fig = gmaps.figure()\n",
    "\n",
    "# Create heat layer\n",
    "heat_layer = gmaps.heatmap_layer(locations, weights=gdps, \n",
    "                                 dissipating=False, max_intensity=max(gdps),\n",
    "                                 point_radius=5)\n",
    "\n",
    "\n",
    "\n",
    "fig.add_layer(heat_layer)\n",
    "fig"
   ]
  },
  {
   "cell_type": "code",
   "execution_count": 19,
   "metadata": {},
   "outputs": [
    {
     "data": {
      "application/vnd.jupyter.widget-view+json": {
       "model_id": "7e4504273a884507a71349eb944a4f1c",
       "version_major": 2,
       "version_minor": 0
      },
      "text/plain": [
       "Figure(layout=FigureLayout(height='420px'))"
      ]
     },
     "metadata": {},
     "output_type": "display_data"
    }
   ],
   "source": [
    "# Configure gmaps\n",
    "gmaps.configure(api_key=g_key)\n",
    "\n",
    "# Create heatmap\n",
    "fig = gmaps.figure()\n",
    "\n",
    "# Create heat layer\n",
    "heat_layer = gmaps.heatmap_layer(locations, weights=carbons, \n",
    "                                 dissipating=False, max_intensity=1*(10**9),\n",
    "                                 point_radius=5)\n",
    "\n",
    "\n",
    "\n",
    "fig.add_layer(heat_layer)\n",
    "fig"
   ]
  },
  {
   "cell_type": "code",
   "execution_count": 86,
   "metadata": {},
   "outputs": [
    {
     "data": {
      "text/html": [
       "<div>\n",
       "<style scoped>\n",
       "    .dataframe tbody tr th:only-of-type {\n",
       "        vertical-align: middle;\n",
       "    }\n",
       "\n",
       "    .dataframe tbody tr th {\n",
       "        vertical-align: top;\n",
       "    }\n",
       "\n",
       "    .dataframe thead th {\n",
       "        text-align: right;\n",
       "    }\n",
       "</style>\n",
       "<table border=\"1\" class=\"dataframe\">\n",
       "  <thead>\n",
       "    <tr style=\"text-align: right;\">\n",
       "      <th></th>\n",
       "      <th>Temperature - (Celsius)</th>\n",
       "      <th>Year</th>\n",
       "      <th>Statistics</th>\n",
       "      <th>Country</th>\n",
       "      <th>ISO3</th>\n",
       "    </tr>\n",
       "  </thead>\n",
       "  <tbody>\n",
       "    <tr>\n",
       "      <th>0</th>\n",
       "      <td>25.6309</td>\n",
       "      <td>1991</td>\n",
       "      <td>Jan Average</td>\n",
       "      <td>Brazil</td>\n",
       "      <td>BRA</td>\n",
       "    </tr>\n",
       "    <tr>\n",
       "      <th>1</th>\n",
       "      <td>25.9331</td>\n",
       "      <td>1991</td>\n",
       "      <td>Feb Average</td>\n",
       "      <td>Brazil</td>\n",
       "      <td>BRA</td>\n",
       "    </tr>\n",
       "    <tr>\n",
       "      <th>2</th>\n",
       "      <td>25.6195</td>\n",
       "      <td>1991</td>\n",
       "      <td>Mar Average</td>\n",
       "      <td>Brazil</td>\n",
       "      <td>BRA</td>\n",
       "    </tr>\n",
       "    <tr>\n",
       "      <th>3</th>\n",
       "      <td>25.3122</td>\n",
       "      <td>1991</td>\n",
       "      <td>Apr Average</td>\n",
       "      <td>Brazil</td>\n",
       "      <td>BRA</td>\n",
       "    </tr>\n",
       "    <tr>\n",
       "      <th>4</th>\n",
       "      <td>24.6685</td>\n",
       "      <td>1991</td>\n",
       "      <td>May Average</td>\n",
       "      <td>Brazil</td>\n",
       "      <td>BRA</td>\n",
       "    </tr>\n",
       "  </tbody>\n",
       "</table>\n",
       "</div>"
      ],
      "text/plain": [
       "   Temperature - (Celsius)   Year    Statistics  Country  ISO3\n",
       "0                  25.6309   1991   Jan Average   Brazil   BRA\n",
       "1                  25.9331   1991   Feb Average   Brazil   BRA\n",
       "2                  25.6195   1991   Mar Average   Brazil   BRA\n",
       "3                  25.3122   1991   Apr Average   Brazil   BRA\n",
       "4                  24.6685   1991   May Average   Brazil   BRA"
      ]
     },
     "execution_count": 86,
     "metadata": {},
     "output_type": "execute_result"
    }
   ],
   "source": [
    "# Import BRIC Historic climate csv into pandas dataframe\n",
    "bric_climate_df = pd.read_csv(\"../project-1-data/BRIC-climate-1991-2016.csv\")\n",
    "bric_climate_df.head()"
   ]
  },
  {
   "cell_type": "code",
   "execution_count": 87,
   "metadata": {},
   "outputs": [
    {
     "data": {
      "text/html": [
       "<div>\n",
       "<style scoped>\n",
       "    .dataframe tbody tr th:only-of-type {\n",
       "        vertical-align: middle;\n",
       "    }\n",
       "\n",
       "    .dataframe tbody tr th {\n",
       "        vertical-align: top;\n",
       "    }\n",
       "\n",
       "    .dataframe thead th {\n",
       "        text-align: right;\n",
       "    }\n",
       "</style>\n",
       "<table border=\"1\" class=\"dataframe\">\n",
       "  <thead>\n",
       "    <tr style=\"text-align: right;\">\n",
       "      <th></th>\n",
       "      <th>Country</th>\n",
       "      <th>Year</th>\n",
       "      <th>Code</th>\n",
       "      <th>Temperature_C</th>\n",
       "    </tr>\n",
       "  </thead>\n",
       "  <tbody>\n",
       "    <tr>\n",
       "      <th>0</th>\n",
       "      <td>Brazil</td>\n",
       "      <td>1991</td>\n",
       "      <td>BRA</td>\n",
       "      <td>25.6309</td>\n",
       "    </tr>\n",
       "    <tr>\n",
       "      <th>1</th>\n",
       "      <td>Brazil</td>\n",
       "      <td>1991</td>\n",
       "      <td>BRA</td>\n",
       "      <td>25.9331</td>\n",
       "    </tr>\n",
       "    <tr>\n",
       "      <th>2</th>\n",
       "      <td>Brazil</td>\n",
       "      <td>1991</td>\n",
       "      <td>BRA</td>\n",
       "      <td>25.6195</td>\n",
       "    </tr>\n",
       "    <tr>\n",
       "      <th>3</th>\n",
       "      <td>Brazil</td>\n",
       "      <td>1991</td>\n",
       "      <td>BRA</td>\n",
       "      <td>25.3122</td>\n",
       "    </tr>\n",
       "    <tr>\n",
       "      <th>4</th>\n",
       "      <td>Brazil</td>\n",
       "      <td>1991</td>\n",
       "      <td>BRA</td>\n",
       "      <td>24.6685</td>\n",
       "    </tr>\n",
       "  </tbody>\n",
       "</table>\n",
       "</div>"
      ],
      "text/plain": [
       "   Country  Year  Code  Temperature_C\n",
       "0   Brazil  1991   BRA        25.6309\n",
       "1   Brazil  1991   BRA        25.9331\n",
       "2   Brazil  1991   BRA        25.6195\n",
       "3   Brazil  1991   BRA        25.3122\n",
       "4   Brazil  1991   BRA        24.6685"
      ]
     },
     "execution_count": 87,
     "metadata": {},
     "output_type": "execute_result"
    }
   ],
   "source": [
    "# Checking column names and fixing irregularities\n",
    "bric_climate_df.columns\n",
    "\n",
    "bric_climate_df = bric_climate_df.rename(columns = {\"Temperature - (Celsius)\" : \"Temperature_C\",\n",
    "                                                    \" Year\" : \"Year\",\n",
    "                                                    \" Statistics\" : \"Statistics\",\n",
    "                                                    \" Country\" : \"Country\",\n",
    "                                                    \" ISO3\" : \"Code\"})\n",
    "\n",
    "bric_climate_df = bric_climate_df[[\"Country\", \"Year\", \"Code\", \"Temperature_C\"]]\n",
    "bric_climate_df.head()"
   ]
  },
  {
   "cell_type": "code",
   "execution_count": 89,
   "metadata": {},
   "outputs": [
    {
     "data": {
      "text/html": [
       "<div>\n",
       "<style scoped>\n",
       "    .dataframe tbody tr th:only-of-type {\n",
       "        vertical-align: middle;\n",
       "    }\n",
       "\n",
       "    .dataframe tbody tr th {\n",
       "        vertical-align: top;\n",
       "    }\n",
       "\n",
       "    .dataframe thead th {\n",
       "        text-align: right;\n",
       "    }\n",
       "</style>\n",
       "<table border=\"1\" class=\"dataframe\">\n",
       "  <thead>\n",
       "    <tr style=\"text-align: right;\">\n",
       "      <th></th>\n",
       "      <th></th>\n",
       "      <th>Temperature_C</th>\n",
       "      <th>Code</th>\n",
       "    </tr>\n",
       "    <tr>\n",
       "      <th>Country</th>\n",
       "      <th>Year</th>\n",
       "      <th></th>\n",
       "      <th></th>\n",
       "    </tr>\n",
       "  </thead>\n",
       "  <tbody>\n",
       "    <tr>\n",
       "      <th rowspan=\"5\" valign=\"top\">Brazil</th>\n",
       "      <th>1991</th>\n",
       "      <td>26.0139</td>\n",
       "      <td>BRA</td>\n",
       "    </tr>\n",
       "    <tr>\n",
       "      <th>1992</th>\n",
       "      <td>25.7539</td>\n",
       "      <td>BRA</td>\n",
       "    </tr>\n",
       "    <tr>\n",
       "      <th>1993</th>\n",
       "      <td>26.0299</td>\n",
       "      <td>BRA</td>\n",
       "    </tr>\n",
       "    <tr>\n",
       "      <th>1994</th>\n",
       "      <td>26.1762</td>\n",
       "      <td>BRA</td>\n",
       "    </tr>\n",
       "    <tr>\n",
       "      <th>1995</th>\n",
       "      <td>26.1650</td>\n",
       "      <td>BRA</td>\n",
       "    </tr>\n",
       "  </tbody>\n",
       "</table>\n",
       "</div>"
      ],
      "text/plain": [
       "              Temperature_C  Code\n",
       "Country Year                     \n",
       " Brazil 1991        26.0139   BRA\n",
       "        1992        25.7539   BRA\n",
       "        1993        26.0299   BRA\n",
       "        1994        26.1762   BRA\n",
       "        1995        26.1650   BRA"
      ]
     },
     "execution_count": 89,
     "metadata": {},
     "output_type": "execute_result"
    }
   ],
   "source": [
    "# Groupby country and year to get max\n",
    "\n",
    "bric_groupby = bric_climate_df.groupby(by = [\"Country\", \"Year\"])\n",
    "bric_max_temp = bric_groupby.max()\n",
    "bric_max_temp.head(40)\n",
    "\n",
    "bric_max_temp[[\"Temperature_C\", \"Code\"]].head()\n",
    "\n",
    "#bric_max_temp.loc[(' Brazil', 1991), :]"
   ]
  },
  {
   "cell_type": "code",
   "execution_count": 93,
   "metadata": {},
   "outputs": [],
   "source": [
    "# Resetting index of BRIC temperature dataframe\n",
    "bric_temp_df = bric_max_temp.reset_index()\n",
    "\n",
    "# Removing leading space in country and code values of BRIC dataframe\n",
    "bric_temp_df.Country = [country.strip() for country in bric_temp_df.Country]\n",
    "bric_temp_df.Code = [code.strip() for code in bric_temp_df.Code]\n",
    "\n",
    "#bric_temp_df.Country = bric_temp_df.Country.astype(str)\n",
    "#bric_temp_df.Year = bric_temp_df.Year.astype(int)\n",
    "\n",
    "#co2_country_df.Country = co2_country_df.Country.astype(str)\n",
    "#co2_country_df.Year = co2_country_df.Year.astype(int)"
   ]
  },
  {
   "cell_type": "code",
   "execution_count": 71,
   "metadata": {},
   "outputs": [],
   "source": [
    "#co2_country_df.loc[(co2_country_df.Country == 'Brazil') | (co2_country_df.Country == 'Russia'), :]"
   ]
  },
  {
   "cell_type": "code",
   "execution_count": 94,
   "metadata": {},
   "outputs": [],
   "source": [
    "# Merging BRIC emissions with BRIC temperatures\n",
    "bric_merge_df = bric_temp_df.merge(co2_country_df, how = 'left', on = ['Country', 'Year', 'Code'])"
   ]
  },
  {
   "cell_type": "code",
   "execution_count": 96,
   "metadata": {},
   "outputs": [
    {
     "data": {
      "text/html": [
       "<div>\n",
       "<style scoped>\n",
       "    .dataframe tbody tr th:only-of-type {\n",
       "        vertical-align: middle;\n",
       "    }\n",
       "\n",
       "    .dataframe tbody tr th {\n",
       "        vertical-align: top;\n",
       "    }\n",
       "\n",
       "    .dataframe thead th {\n",
       "        text-align: right;\n",
       "    }\n",
       "</style>\n",
       "<table border=\"1\" class=\"dataframe\">\n",
       "  <thead>\n",
       "    <tr style=\"text-align: right;\">\n",
       "      <th></th>\n",
       "      <th>Country</th>\n",
       "      <th>Year</th>\n",
       "      <th>Code</th>\n",
       "      <th>Temperature_C</th>\n",
       "      <th>annual_co2_tonnes</th>\n",
       "    </tr>\n",
       "  </thead>\n",
       "  <tbody>\n",
       "    <tr>\n",
       "      <th>0</th>\n",
       "      <td>Brazil</td>\n",
       "      <td>1991</td>\n",
       "      <td>BRA</td>\n",
       "      <td>26.0139</td>\n",
       "      <td>217227472.0</td>\n",
       "    </tr>\n",
       "    <tr>\n",
       "      <th>1</th>\n",
       "      <td>Brazil</td>\n",
       "      <td>1992</td>\n",
       "      <td>BRA</td>\n",
       "      <td>25.7539</td>\n",
       "      <td>218383504.0</td>\n",
       "    </tr>\n",
       "    <tr>\n",
       "      <th>2</th>\n",
       "      <td>Brazil</td>\n",
       "      <td>1993</td>\n",
       "      <td>BRA</td>\n",
       "      <td>26.0299</td>\n",
       "      <td>228333216.0</td>\n",
       "    </tr>\n",
       "    <tr>\n",
       "      <th>3</th>\n",
       "      <td>Brazil</td>\n",
       "      <td>1994</td>\n",
       "      <td>BRA</td>\n",
       "      <td>26.1762</td>\n",
       "      <td>239470720.0</td>\n",
       "    </tr>\n",
       "    <tr>\n",
       "      <th>4</th>\n",
       "      <td>Brazil</td>\n",
       "      <td>1995</td>\n",
       "      <td>BRA</td>\n",
       "      <td>26.1650</td>\n",
       "      <td>255583376.0</td>\n",
       "    </tr>\n",
       "  </tbody>\n",
       "</table>\n",
       "</div>"
      ],
      "text/plain": [
       "  Country  Year Code  Temperature_C  annual_co2_tonnes\n",
       "0  Brazil  1991  BRA        26.0139        217227472.0\n",
       "1  Brazil  1992  BRA        25.7539        218383504.0\n",
       "2  Brazil  1993  BRA        26.0299        228333216.0\n",
       "3  Brazil  1994  BRA        26.1762        239470720.0\n",
       "4  Brazil  1995  BRA        26.1650        255583376.0"
      ]
     },
     "execution_count": 96,
     "metadata": {},
     "output_type": "execute_result"
    }
   ],
   "source": [
    "bric_merge_df.head()"
   ]
  },
  {
   "cell_type": "code",
   "execution_count": 99,
   "metadata": {},
   "outputs": [
    {
     "data": {
      "image/png": "[encoded data removed]",
      "text/plain": [
       "<Figure size 432x288 with 1 Axes>"
      ]
     },
     "metadata": {
      "needs_background": "light"
     },
     "output_type": "display_data"
    }
   ],
   "source": [
    "# Line Plot for Carbon Emmissions\n",
    "\n",
    "# Subset data for countries\n",
    "brazil_df = bric_merge_df.loc[bric_merge_df.Country == \"Brazil\", :]\n",
    "russia_df = bric_merge_df.loc[bric_merge_df.Country == \"Russia\", :]\n",
    "india_df = bric_merge_df.loc[bric_merge_df.Country == \"India\", :]\n",
    "china_df = bric_merge_df.loc[bric_merge_df.Country == \"China\", :]\n",
    "\n",
    "# Plotting lines\n",
    "plt.plot(brazil_df.Year, brazil_df.annual_co2_tonnes, label = \"Brazil\")\n",
    "plt.plot(russia_df.Year, russia_df.annual_co2_tonnes, label = \"Russia\")\n",
    "plt.plot(india_df.Year, india_df.annual_co2_tonnes, label = \"India\")\n",
    "plt.plot(china_df.Year, china_df.annual_co2_tonnes, label = \"China\")\n",
    "plt.legend(loc = \"best\")\n",
    "plt.title(\"BRIC Countries: CO2 Emissions (1991-2016)\")\n",
    "plt.xlabel(\"Year\")\n",
    "plt.ylabel(\"Annual Carbon Emissions (tonnes)\")\n",
    "plt.show()"
   ]
  },
  {
   "cell_type": "code",
   "execution_count": 100,
   "metadata": {},
   "outputs": [
    {
     "data": {
      "image/png": "[encoded data removed]",
      "text/plain": [
       "<Figure size 432x288 with 1 Axes>"
      ]
     },
     "metadata": {
      "needs_background": "light"
     },
     "output_type": "display_data"
    }
   ],
   "source": [
    "# Line Plot for Annual Max Temperature\n",
    "\n",
    "# Plotting lines\n",
    "plt.plot(brazil_df.Year, brazil_df.Temperature_C, label = \"Brazil\")\n",
    "plt.plot(russia_df.Year, russia_df.Temperature_C, label = \"Russia\")\n",
    "plt.plot(india_df.Year, india_df.Temperature_C, label = \"India\")\n",
    "plt.plot(china_df.Year, china_df.Temperature_C, label = \"China\")\n",
    "plt.legend(loc = \"best\")\n",
    "plt.title(\"BRIC Countries: Highest Annual Temperature (1991-2016)\")\n",
    "plt.xlabel(\"Year\")\n",
    "plt.ylabel(\"Temperature (Celcius)\")\n",
    "plt.show()"
   ]
  },
  {
   "cell_type": "code",
   "execution_count": 107,
   "metadata": {},
   "outputs": [
    {
     "name": "stdout",
     "output_type": "stream",
     "text": [
      "Please select a year between 1991 and 2016:2016\n"
     ]
    },
    {
     "data": {
      "image/png": "[encoded data removed]",
      "text/plain": [
       "<Figure size 432x288 with 1 Axes>"
      ]
     },
     "metadata": {
      "needs_background": "light"
     },
     "output_type": "display_data"
    }
   ],
   "source": [
    "# BarPlot of Carbon Emissions for a Given Year\n",
    "\n",
    "# Get user input for year of interest\n",
    "year_of_interest = input(\"Please select a year between 1991 and 2016:\")\n",
    "\n",
    "# Subset data for given year\n",
    "bar_data = bric_merge_df.loc[bric_merge_df.Year == int(year_of_interest), :]\n",
    "\n",
    "# Creating barplot\n",
    "plt.bar(bar_data.Country, bar_data.annual_co2_tonnes)\n",
    "plt.title(f\"BRIC Countries: CO2 Emissions ({year_of_interest})\")\n",
    "plt.xlabel(\"Country\")\n",
    "plt.ylabel(\"Annual Carbon Emissions (tonnes)\")\n",
    "plt.show()"
   ]
  },
  {
   "cell_type": "markdown",
   "metadata": {},
   "source": [
    "#### Linear Regression"
   ]
  },
  {
   "cell_type": "code",
   "execution_count": 116,
   "metadata": {},
   "outputs": [
    {
     "name": "stdout",
     "output_type": "stream",
     "text": [
      "The correlation coefficient is 0.68\n",
      "The r-squared value is 0.47\n"
     ]
    },
    {
     "data": {
      "image/png": "[encoded data removed]",
      "text/plain": [
       "<Figure size 432x288 with 1 Axes>"
      ]
     },
     "metadata": {
      "needs_background": "light"
     },
     "output_type": "display_data"
    }
   ],
   "source": [
    "# Brazil\n",
    "lin_regress(brazil_df.annual_co2_tonnes, brazil_df.Temperature_C)\n",
    "plt.title(\"Carbon Emissions vs. Temperature (Brazil 1991-2016)\")\n",
    "plt.xlabel(\"Carbon Emissions (tonnes)\")\n",
    "plt.ylabel(\"Temperature (Celcius)\")\n",
    "plt.grid(True)\n",
    "plt.show()"
   ]
  },
  {
   "cell_type": "code",
   "execution_count": 122,
   "metadata": {},
   "outputs": [
    {
     "name": "stdout",
     "output_type": "stream",
     "text": [
      "The correlation coefficient is -0.0\n",
      "The r-squared value is 0.0\n"
     ]
    },
    {
     "data": {
      "image/png": "[encoded data removed]",
      "text/plain": [
       "<Figure size 432x288 with 1 Axes>"
      ]
     },
     "metadata": {
      "needs_background": "light"
     },
     "output_type": "display_data"
    }
   ],
   "source": [
    "# Russia\n",
    "lin_regress(russia_df.annual_co2_tonnes, russia_df.Temperature_C)\n",
    "plt.title(\"Carbon Emissions vs. Temperature (Russia 1991-2016)\")\n",
    "plt.xlabel(\"Carbon Emissions (tonnes)\")\n",
    "plt.ylabel(\"Temperature (Celcius)\")\n",
    "plt.grid(True)\n",
    "plt.show()"
   ]
  },
  {
   "cell_type": "code",
   "execution_count": 120,
   "metadata": {},
   "outputs": [
    {
     "name": "stdout",
     "output_type": "stream",
     "text": [
      "The correlation coefficient is 0.41\n",
      "The r-squared value is 0.17\n"
     ]
    },
    {
     "data": {
      "image/png": "[encoded data removed]",
      "text/plain": [
       "<Figure size 432x288 with 1 Axes>"
      ]
     },
     "metadata": {
      "needs_background": "light"
     },
     "output_type": "display_data"
    }
   ],
   "source": [
    "# India\n",
    "lin_regress(india_df.annual_co2_tonnes, india_df.Temperature_C)\n",
    "plt.title(\"Carbon Emissions vs. Temperature (India 1991-2016)\")\n",
    "plt.xlabel(\"Carbon Emissions (tonnes)\")\n",
    "plt.ylabel(\"Temperature (Celcius)\")\n",
    "plt.grid(True)\n",
    "plt.show()"
   ]
  },
  {
   "cell_type": "code",
   "execution_count": 121,
   "metadata": {},
   "outputs": [
    {
     "name": "stdout",
     "output_type": "stream",
     "text": [
      "The correlation coefficient is 0.4\n",
      "The r-squared value is 0.16\n"
     ]
    },
    {
     "data": {
      "image/png": "[encoded data removed]",
      "text/plain": [
       "<Figure size 432x288 with 1 Axes>"
      ]
     },
     "metadata": {
      "needs_background": "light"
     },
     "output_type": "display_data"
    }
   ],
   "source": [
    "# China\n",
    "lin_regress(china_df.annual_co2_tonnes, china_df.Temperature_C)\n",
    "plt.title(\"Carbon Emissions vs. Temperature (China 1991-2016)\")\n",
    "plt.xlabel(\"Carbon Emissions (tonnes)\")\n",
    "plt.ylabel(\"Temperature (Celcius)\")\n",
    "plt.grid(True)\n",
    "plt.show()"
   ]
  },
  {
   "cell_type": "markdown",
   "metadata": {},
   "source": [
    "#### State Emissions vs. Income"
   ]
  },
  {
   "cell_type": "code",
   "execution_count": null,
   "metadata": {},
   "outputs": [],
   "source": [
    "#create variables for different value sets \n",
    "state_name = merge_df[\"State\"].unique()\n",
    "us_co2_production = merge_df[\"Production, U.S. Share\"].astype(int)\n",
    "median_income = merge_df[\"Median income\"].astype(int)\n",
    "co2_per_capita = merge_df[\"Consumption per Capita, Million Btu\"].tolist()"
   ]
  },
  {
   "cell_type": "code",
   "execution_count": null,
   "metadata": {},
   "outputs": [],
   "source": [
    "emissions_vs_income = merge_df[[\"State\", \"Median income\",\"Production, U.S. Share\"]]"
   ]
  },
  {
   "cell_type": "code",
   "execution_count": null,
   "metadata": {},
   "outputs": [],
   "source": [
    "x_values = median_income\n",
    "y_values = us_co2_production\n",
    "\n",
    "plt.scatter(x_values, y_values)\n",
    "\n",
    "(slope, intercept, rvalue, pvalue, stderr) = linregress(x_values, y_values)\n",
    "regress_values = x_values * slope + intercept\n",
    "line_eq = \"y = \" + str(round(slope,2)) + \"x + \" + str(round(intercept,2))\n",
    "\n",
    "plt.scatter(x_values,y_values)\n",
    "plt.plot(x_values,regress_values,\"r-\", label=line_eq)\n",
    "plt.annotate(line_eq,(6,10),fontsize=10,color=\"red\")\n",
    "plt.legend(loc=\"best\")\n",
    "\n",
    "plt.xlabel(\"Median Income\")\n",
    "plt.ylabel(\"U.S. CO2 Production\")\n",
    "\n",
    "plt.show()"
   ]
  },
  {
   "cell_type": "code",
   "execution_count": null,
   "metadata": {},
   "outputs": [],
   "source": [
    "x_values = median_income\n",
    "y_values = co2_per_capita\n",
    "\n",
    "plt.scatter(median_income, co2_per_capita, color=\"red\")\n",
    "\n",
    "(slope, intercept, rvalue, pvalue, stderr) = linregress(x_values, y_values)\n",
    "regress_values = x_values * slope + intercept\n",
    "line_eq = \"y = \" + str(round(slope,2)) + \"x + \" + str(round(intercept,2))\n",
    "plt.scatter(x_values, y_values)\n",
    "plt.plot(x_values,regress_values,\"r-\", label=line_eq)\n",
    "plt.annotate(line_eq,(6,10),fontsize=15,color=\"red\")\n",
    "plt.legend(loc=\"best\")\n",
    "\n",
    "plt.xlabel(\"Median U.S. Income \")\n",
    "plt.ylabel(\"CO2 Consumption Per Capita\")\n",
    "\n",
    "plt.show()"
   ]
  }
 ],
 "metadata": {
  "kernelspec": {
   "display_name": "Python 3",
   "language": "python",
   "name": "python3"
  },
  "language_info": {
   "codemirror_mode": {
    "name": "ipython",
    "version": 3
   },
   "file_extension": ".py",
   "mimetype": "text/x-python",
   "name": "python",
   "nbconvert_exporter": "python",
   "pygments_lexer": "ipython3",
   "version": "3.8.5"
  }
 },
 "nbformat": 4,
 "nbformat_minor": 4
}
